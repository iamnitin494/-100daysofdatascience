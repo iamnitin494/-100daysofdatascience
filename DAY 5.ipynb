{
 "cells": [
  {
   "cell_type": "markdown",
   "metadata": {},
   "source": [
    "# Control Flow In Python\n",
    "*Allows you to execute code only when certain conditions are met.<br>\n",
    "*Control Flow statements are: <br>\n",
    "                            1. If elif else\n",
    "                            2. For loops\n",
    "                            3. While loops"
   ]
  },
  {
   "cell_type": "code",
   "execution_count": 14,
   "metadata": {},
   "outputs": [
    {
     "name": "stdout",
     "output_type": "stream",
     "text": [
      "Enter first number: 2\n",
      "Enter second number: 4\n",
      "The second number 4, is greater than the first number 2\n"
     ]
    }
   ],
   "source": [
    "#if elif else\n",
    "#input() is used to take an input from user\n",
    "a= int(input(\"Enter first number: \"))\n",
    "b= int(input(\"Enter second number: \"))\n",
    "if a>b:\n",
    "    print(\"The first number {}, is greater than the second number {}\".format(a,b))\n",
    "elif b>a:\n",
    "    print(\"The second number {}, is greater than the first number {}\".format(b,a))\n",
    "else:\n",
    "    print(\"Both numbers are equal\")\n",
    "    \n",
    "           "
   ]
  },
  {
   "cell_type": "code",
   "execution_count": 24,
   "metadata": {},
   "outputs": [
    {
     "name": "stdout",
     "output_type": "stream",
     "text": [
      "Enter any number: 2\n",
      "2 * 1 = 2\n",
      "2 * 2 = 4\n",
      "2 * 3 = 6\n",
      "2 * 4 = 8\n",
      "2 * 5 = 10\n",
      "2 * 6 = 12\n",
      "2 * 7 = 14\n",
      "2 * 8 = 16\n",
      "2 * 9 = 18\n",
      "2 * 10 = 20\n"
     ]
    }
   ],
   "source": [
    "#For loops\n",
    "#used for iteration\n",
    "#multiplication table of any number\n",
    "#It is used for looping until a condition is satisfied but is used when you know how many times the code needs to be in loop.\n",
    "#range(start, stop, step): generates number from start to (stop - 1), step is optional or by default it is set to 1. \n",
    "\n",
    "a= int(input(\"Enter any number: \"))\n",
    "for i in range(1,11):       \n",
    "    print(\"{} * {} = {}\".format(a,i,a*i))"
   ]
  },
  {
   "cell_type": "code",
   "execution_count": 23,
   "metadata": {},
   "outputs": [
    {
     "name": "stdout",
     "output_type": "stream",
     "text": [
      "Enter any number: 2\n",
      "2 * 1 = 2\n",
      "2 * 2 = 4\n",
      "2 * 3 = 6\n",
      "2 * 4 = 8\n",
      "2 * 5 = 10\n",
      "2 * 6 = 12\n",
      "2 * 7 = 14\n",
      "2 * 8 = 16\n",
      "2 * 9 = 18\n",
      "2 * 10 = 20\n"
     ]
    }
   ],
   "source": [
    "#while loop\n",
    "#used for iteration\n",
    "#multiplication table with while loop\n",
    "#It is used for looping until a condition is satisfied and when it is unsure how many times the code should be in loop.\n",
    "\n",
    "a= int(input(\"Enter any number: \"))\n",
    "i=1\n",
    "while (i<11):\n",
    "    print(\"{} * {} = {}\".format(a,i,a*i))\n",
    "    i=i+1        "
   ]
  },
  {
   "cell_type": "markdown",
   "metadata": {},
   "source": [
    "# Some Operations In Python"
   ]
  },
  {
   "cell_type": "code",
   "execution_count": 29,
   "metadata": {},
   "outputs": [
    {
     "name": "stdout",
     "output_type": "stream",
     "text": [
      "(0, 'a')\n",
      "(1, 'b')\n",
      "(2, 'c')\n",
      "(3, 'd')\n"
     ]
    }
   ],
   "source": [
    "#enumerate(): It adds a counter to an iterable and returns it in a form of enumerate object.\n",
    "# It is basically showing the index positions af each letter in the word.\n",
    "for i in enumerate('abcd'):\n",
    "    print(i)"
   ]
  },
  {
   "cell_type": "code",
   "execution_count": 31,
   "metadata": {},
   "outputs": [
    {
     "name": "stdout",
     "output_type": "stream",
     "text": [
      "1\n",
      "2\n",
      "3\n"
     ]
    }
   ],
   "source": [
    "#range: range(start, stop, step) generates number from start to (stop - 1), step is optional or by default it is set to 1. \n",
    "\n",
    "for i in range(1,4): \n",
    "    print(i)"
   ]
  },
  {
   "cell_type": "code",
   "execution_count": 33,
   "metadata": {},
   "outputs": [
    {
     "name": "stdout",
     "output_type": "stream",
     "text": [
      "(1, 'a')\n",
      "(2, 'b')\n",
      "(3, 'c')\n"
     ]
    }
   ],
   "source": [
    "#zip: Kind of opposite of enumerate\n",
    "#it packs the values of two lists \n",
    "list1= [1,2,3]\n",
    "list2=['a','b','c']\n",
    "for i in zip(list1,list2):\n",
    "    print(i)"
   ]
  },
  {
   "cell_type": "code",
   "execution_count": 36,
   "metadata": {},
   "outputs": [
    {
     "data": {
      "text/plain": [
       "'a'"
      ]
     },
     "execution_count": 36,
     "metadata": {},
     "output_type": "execute_result"
    }
   ],
   "source": [
    "#min() it is used to find the minimum value in the list\n",
    "min(list2)"
   ]
  },
  {
   "cell_type": "code",
   "execution_count": 37,
   "metadata": {},
   "outputs": [
    {
     "data": {
      "text/plain": [
       "'c'"
      ]
     },
     "execution_count": 37,
     "metadata": {},
     "output_type": "execute_result"
    }
   ],
   "source": [
    "#max() it is used to find the maximum value in the list\n",
    "max(list2)"
   ]
  },
  {
   "cell_type": "code",
   "execution_count": null,
   "metadata": {},
   "outputs": [],
   "source": []
  }
 ],
 "metadata": {
  "kernelspec": {
   "display_name": "Python 3",
   "language": "python",
   "name": "python3"
  },
  "language_info": {
   "codemirror_mode": {
    "name": "ipython",
    "version": 3
   },
   "file_extension": ".py",
   "mimetype": "text/x-python",
   "name": "python",
   "nbconvert_exporter": "python",
   "pygments_lexer": "ipython3",
   "version": "3.7.3"
  }
 },
 "nbformat": 4,
 "nbformat_minor": 2
}
