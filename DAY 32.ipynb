{
 "cells": [
  {
   "cell_type": "code",
   "execution_count": 2,
   "metadata": {},
   "outputs": [],
   "source": [
    "import numpy as np\n",
    "from sympy import *\n",
    "import matplotlib.pyplot as plt"
   ]
  },
  {
   "cell_type": "markdown",
   "metadata": {},
   "source": [
    "# Inverse of a matrix\n"
   ]
  },
  {
   "cell_type": "code",
   "execution_count": 4,
   "metadata": {},
   "outputs": [
    {
     "name": "stdout",
     "output_type": "stream",
     "text": [
      "The matrix A is:\n",
      " [[-0.36377796 -1.6437536  -2.1943572 ]\n",
      " [ 0.16590797  2.03498131  1.29181871]\n",
      " [-1.98688862  0.16758107 -1.31627606]]\n",
      "\n",
      "\n",
      "Inverse of A is:\n",
      " [[ 0.72013585  0.62966364 -0.58257082]\n",
      " [ 0.58413168  0.96540537 -0.02633554]\n",
      " [-1.01266016 -0.82755274  0.11630539]]\n",
      "\n",
      "\n",
      "A@Ainv= I\n",
      " [[ 1.00000000e+00  1.02354210e-16  1.56096010e-17]\n",
      " [-4.07158866e-17  1.00000000e+00  4.40228933e-18]\n",
      " [-9.81758564e-17 -4.99351643e-17  1.00000000e+00]]\n"
     ]
    }
   ],
   "source": [
    "m = 3\n",
    "\n",
    "# generate random matrix\n",
    "A = np.random.randn(m,m)\n",
    "\n",
    "# computing its inverse\n",
    "Ainv = np.linalg.inv(A)\n",
    "\n",
    "# Confirming whether its the right inverse of A or not \n",
    "I = A@Ainv\n",
    "\n",
    "print(\"The matrix A is:\\n\",A)\n",
    "print(\"\\n\")\n",
    "print(\"Inverse of A is:\\n\",Ainv)\n",
    "print(\"\\n\")\n",
    "print(\"A@Ainv= I\\n\",I)  #The result is matrix I but the off diagonal elements are not zero rather because of computational errors it's very close to 0\n",
    "\n"
   ]
  },
  {
   "cell_type": "markdown",
   "metadata": {},
   "source": [
    "# Computing the inverse of a matrix via row reduction\n"
   ]
  },
  {
   "cell_type": "code",
   "execution_count": 12,
   "metadata": {},
   "outputs": [
    {
     "name": "stdout",
     "output_type": "stream",
     "text": [
      "Size of Aaug: (3, 6)\n",
      "The matrix A is:\n",
      " Matrix([[-16.0000000000000, 5.00000000000000, -6.00000000000000], [-2.00000000000000, 7.00000000000000, 7.00000000000000], [-1.00000000000000, 2.00000000000000, -8.00000000000000]])\n",
      "\n",
      "\n",
      "The inverse of matrix A via rref is:\n",
      " Matrix([[-0.0709219858156028, 0.0283687943262411, 0.0780141843971631], [-0.0233029381965552, 0.123606889564336, 0.125633232016211], [0.00303951367781155, 0.0273556231003040, -0.103343465045593]])\n",
      "\n",
      "\n",
      "The inverse of matrix A is:\n",
      " Matrix([[-0.0709219858156028, 0.0283687943262411, 0.0780141843971631], [-0.0233029381965552, 0.123606889564336, 0.125633232016211], [0.00303951367781155, 0.0273556231003040, -0.103343465045593]])\n"
     ]
    }
   ],
   "source": [
    "# defining matrix size\n",
    "m = 3\n",
    "\n",
    "# creating matrix of random integers via using sympy\n",
    "A = Matrix( np.round(10*np.random.randn(m,m)) )\n",
    "\n",
    "# augmenting matrix A and identity matrix\n",
    "Aaug = Matrix( np.concatenate((A,np.eye(m,m)),axis=1) )\n",
    "print('Size of Aaug:',Aaug.shape)\n",
    "\n",
    "# inverse using rref technique\n",
    "Asol = Aaug.rref()\n",
    "A_inv_rref = Asol[0]\n",
    "A_inv_rref = A_inv_rref[:,m:m*2]\n",
    "\n",
    "# inverse of a matrix\n",
    "Ainv = A.inv()\n",
    "\n",
    "print(\"The matrix A is:\\n\",A)\n",
    "print(\"\\n\")\n",
    "print(\"The inverse of matrix A via rref is:\\n\",A_inv_rref)\n",
    "print(\"\\n\")\n",
    "print(\"The inverse of matrix A is:\\n\",Ainv)\n",
    "\n"
   ]
  },
  {
   "cell_type": "markdown",
   "metadata": {},
   "source": [
    "# Left inverse and right inverse\n"
   ]
  },
  {
   "cell_type": "code",
   "execution_count": 13,
   "metadata": {},
   "outputs": [
    {
     "name": "stdout",
     "output_type": "stream",
     "text": [
      "Rank of A^TA: 3\n",
      "\n",
      "\n",
      "Rank of AA^T: 3\n",
      "\n",
      "\n",
      "The left inverse of matrix A is:\n",
      " [[ 0.10959941 -0.09484428 -0.01027413  0.29903391 -0.12365886  0.10590027]\n",
      " [-0.04529371  0.34342617 -0.36991102  0.04538032  0.0469861   0.01468823]\n",
      " [ 0.1759275   0.05243263 -0.42533001 -0.14093609  0.09581985 -0.19309322]]\n",
      "\n",
      "\n",
      "The right inverse of matrix A is:\n",
      " [[-2.      0.     -2.     -2.     -4.      0.    ]\n",
      " [ 1.0625  1.25    0.25    1.     -0.25   -1.    ]\n",
      " [ 2.      0.75    1.5     2.      8.     -1.    ]]\n",
      "\n",
      "\n"
     ]
    }
   ],
   "source": [
    "# Left and right inverse are defined for rectangular matrices\n",
    "m = 6\n",
    "n = 3\n",
    "\n",
    "# creating matrices\n",
    "A = np.random.randn(m,n)\n",
    "AtA = np.matrix.transpose(A)@A\n",
    "AAt = A@np.matrix.transpose(A)\n",
    "\n",
    "# ranks of matrix\n",
    "print('Rank of A^TA:', np.linalg.matrix_rank(AtA) ) \n",
    "print(\"\\n\")\n",
    "print('Rank of AA^T:', np.linalg.matrix_rank(AAt) ) \n",
    "print(\"\\n\")\n",
    "\n",
    "# left inverse\n",
    "\n",
    "Aleft = np.linalg.inv(AtA)@np.matrix.transpose(A)\n",
    "print(\"The left inverse of matrix A is:\\n\",Aleft)\n",
    "print(\"\\n\")\n",
    "\n",
    "# right inverse\n",
    "Aright = np.matrix.transpose(A)@np.linalg.inv(AAt)\n",
    "print(\"The right inverse of matrix A is:\\n\",Aright)\n",
    "print(\"\\n\")\n",
    "\n",
    "\n",
    "\n"
   ]
  }
 ],
 "metadata": {
  "kernelspec": {
   "display_name": "Python 3",
   "language": "python",
   "name": "python3"
  },
  "language_info": {
   "codemirror_mode": {
    "name": "ipython",
    "version": 3
   },
   "file_extension": ".py",
   "mimetype": "text/x-python",
   "name": "python",
   "nbconvert_exporter": "python",
   "pygments_lexer": "ipython3",
   "version": "3.7.3"
  }
 },
 "nbformat": 4,
 "nbformat_minor": 2
}
