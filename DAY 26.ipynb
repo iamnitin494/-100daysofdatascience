{
 "cells": [
  {
   "cell_type": "markdown",
   "metadata": {},
   "source": [
    "# Practicing Web scraping"
   ]
  },
  {
   "cell_type": "code",
   "execution_count": 1,
   "metadata": {},
   "outputs": [],
   "source": [
    "import requests\n",
    "from bs4 import BeautifulSoup"
   ]
  },
  {
   "cell_type": "code",
   "execution_count": 2,
   "metadata": {},
   "outputs": [],
   "source": [
    "res= requests.get(\"https://diply.com\")"
   ]
  },
  {
   "cell_type": "code",
   "execution_count": 3,
   "metadata": {},
   "outputs": [],
   "source": [
    "data= BeautifulSoup(res.text,'html.parser')"
   ]
  },
  {
   "cell_type": "code",
   "execution_count": 4,
   "metadata": {},
   "outputs": [],
   "source": [
    "news_title=[]\n",
    "for i in data.find_all(\"a\", {\"class\":\"base-article-link\"}):\n",
    "    news_title.append(i.text.strip().strip())\n"
   ]
  },
  {
   "cell_type": "code",
   "execution_count": 5,
   "metadata": {},
   "outputs": [
    {
     "data": {
      "text/plain": [
       "['',\n",
       " 'These High-End Crocs Will Bring Out Your Inner Punk',\n",
       " '',\n",
       " \"These New 'Unicorn Morsels' From Nestle Toll House Make Baking Magical\",\n",
       " '',\n",
       " '10+ Funny Snapchats Worthy Of A Screenshot',\n",
       " '',\n",
       " \"People Are Upcycling Ikea's Famous 99-Cent Reusable Bag Into Clothing\",\n",
       " '',\n",
       " \"Totinos' New Snack Mix Combines Pizza Rolls With Other Cheesy Treats\",\n",
       " '',\n",
       " '23 Besties Who Deserve A Friendship Medal Of Honor',\n",
       " '',\n",
       " \"15+ Fascinating Secrets We Wish We'd Known A Long Time Ago\",\n",
       " '',\n",
       " 'These Crocheted Disney-Inspired Baby Outfits Bring Our Favorite Characters To Life',\n",
       " '',\n",
       " \"Burnt Orange Nail Polish Is Trending For Pumpkin Spice Season, And We Can't Get Enough\",\n",
       " '',\n",
       " 'Walmart Is Selling Starburst Duos Gelatin That Will Make The Tastiest Jell-O Shots',\n",
       " '',\n",
       " \"Law Firm 'Hires' Stray Cat After Visitors Complain About Him Roaming The Office\",\n",
       " '',\n",
       " 'Man Invents Edible Water That Looks Like Sweets To Keep Dementia Patients Hydrated',\n",
       " '',\n",
       " \"It's Confirmed: Keanu Reeves Is Working With Marvel To Bring Him Into The Universe\",\n",
       " '',\n",
       " \"An 'Extinct' Taiwanese Leopard Was Spotted For The First Time In 36 Years\",\n",
       " '',\n",
       " 'This Adorably Rare Baby Zebra Was Born With Polka Dots Instead Of Stripes',\n",
       " '',\n",
       " '10+ People Share The Things They’ve Been Doing Wrong For Years',\n",
       " '',\n",
       " 'These DIY Sunflower Skulls Are Perfect For A Freaky Fall And Haunting Halloween']"
      ]
     },
     "execution_count": 5,
     "metadata": {},
     "output_type": "execute_result"
    }
   ],
   "source": [
    "news_title"
   ]
  },
  {
   "cell_type": "code",
   "execution_count": 6,
   "metadata": {},
   "outputs": [],
   "source": [
    "news= []\n",
    "for i in range(0,len(news_title)):\n",
    "    if i%2!=0:\n",
    "        news.append(news_title[i])"
   ]
  },
  {
   "cell_type": "code",
   "execution_count": 7,
   "metadata": {},
   "outputs": [
    {
     "data": {
      "text/plain": [
       "['These High-End Crocs Will Bring Out Your Inner Punk',\n",
       " \"These New 'Unicorn Morsels' From Nestle Toll House Make Baking Magical\",\n",
       " '10+ Funny Snapchats Worthy Of A Screenshot',\n",
       " \"People Are Upcycling Ikea's Famous 99-Cent Reusable Bag Into Clothing\",\n",
       " \"Totinos' New Snack Mix Combines Pizza Rolls With Other Cheesy Treats\",\n",
       " '23 Besties Who Deserve A Friendship Medal Of Honor',\n",
       " \"15+ Fascinating Secrets We Wish We'd Known A Long Time Ago\",\n",
       " 'These Crocheted Disney-Inspired Baby Outfits Bring Our Favorite Characters To Life',\n",
       " \"Burnt Orange Nail Polish Is Trending For Pumpkin Spice Season, And We Can't Get Enough\",\n",
       " 'Walmart Is Selling Starburst Duos Gelatin That Will Make The Tastiest Jell-O Shots',\n",
       " \"Law Firm 'Hires' Stray Cat After Visitors Complain About Him Roaming The Office\",\n",
       " 'Man Invents Edible Water That Looks Like Sweets To Keep Dementia Patients Hydrated',\n",
       " \"It's Confirmed: Keanu Reeves Is Working With Marvel To Bring Him Into The Universe\",\n",
       " \"An 'Extinct' Taiwanese Leopard Was Spotted For The First Time In 36 Years\",\n",
       " 'This Adorably Rare Baby Zebra Was Born With Polka Dots Instead Of Stripes',\n",
       " '10+ People Share The Things They’ve Been Doing Wrong For Years',\n",
       " 'These DIY Sunflower Skulls Are Perfect For A Freaky Fall And Haunting Halloween']"
      ]
     },
     "execution_count": 7,
     "metadata": {},
     "output_type": "execute_result"
    }
   ],
   "source": [
    "news"
   ]
  },
  {
   "cell_type": "code",
   "execution_count": null,
   "metadata": {},
   "outputs": [],
   "source": []
  }
 ],
 "metadata": {
  "kernelspec": {
   "display_name": "Python 3",
   "language": "python",
   "name": "python3"
  },
  "language_info": {
   "codemirror_mode": {
    "name": "ipython",
    "version": 3
   },
   "file_extension": ".py",
   "mimetype": "text/x-python",
   "name": "python",
   "nbconvert_exporter": "python",
   "pygments_lexer": "ipython3",
   "version": "3.7.3"
  }
 },
 "nbformat": 4,
 "nbformat_minor": 2
}
