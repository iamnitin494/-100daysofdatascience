{
 "cells": [
  {
   "cell_type": "code",
   "execution_count": 1,
   "metadata": {},
   "outputs": [],
   "source": [
    "import numpy as np\n",
    "import matplotlib.pyplot as plt\n",
    "from sympy import *\n"
   ]
  },
  {
   "cell_type": "markdown",
   "metadata": {},
   "source": [
    "# Finding eigenvalues\n",
    "\n"
   ]
  },
  {
   "cell_type": "code",
   "execution_count": 5,
   "metadata": {},
   "outputs": [
    {
     "name": "stdout",
     "output_type": "stream",
     "text": [
      "Eigenvalues of matrix A are:\n",
      " [-1.  6.]\n",
      "\n",
      "\n",
      "Av1 will be scaled version of vector v:\n",
      " [6 6]\n",
      "\n",
      "\n",
      "Av2 wont be the scaled version of v2 as v is not the eigen vector of A:\n",
      " [[-0.74987722]\n",
      " [-1.79841422]]\n"
     ]
    }
   ],
   "source": [
    "# matrix\n",
    "A = [ [1,5], [2,4] ]\n",
    "\n",
    "# extract the eigenvalues\n",
    "eigvals = np.linalg.eig(A)\n",
    "\n",
    "# The eigenvalues are in the first element of eigvals:\n",
    "print(\"Eigenvalues of matrix A are:\\n\",eigvals[0])\n",
    "\n",
    "# Creating two vectors\n",
    "v1 = np.array([ 1,1 ])     # An eigenvector!\n",
    "v2 = np.random.randn(2,1)  # Random vector\n",
    "v2 = v2/np.linalg.norm(v2) # Transforming to unit length vector for convenience \n",
    "\n",
    "# Computing Av\n",
    "Av1 = A@v1\n",
    "Av2 = A@v2\n",
    "print(\"\\n\")\n",
    "\n",
    "print(\"Av1 will be scaled version of vector v:\\n\",Av1)\n",
    "print(\"\\n\")\n",
    "print(\"Av2 wont be the scaled version of v2 as v is not the eigen vector of A:\\n\",Av2)"
   ]
  },
  {
   "cell_type": "code",
   "execution_count": 6,
   "metadata": {},
   "outputs": [
    {
     "name": "stdout",
     "output_type": "stream",
     "text": [
      "The eigen values of matrix A are  [-3. -1.  3.]\n"
     ]
    }
   ],
   "source": [
    "# Eigenvalues for a 3x3 matrix\n",
    "\n",
    "# Creating a 3x3 matrix\n",
    "A = [ [-2,  2, -3 ],\n",
    "      [-4,  1, -6 ],\n",
    "      [-1, -2,  0 ]  ]\n",
    "\n",
    "# get eigenvalues\n",
    "evals = np.linalg.eig(A)\n",
    "print(\"The eigen values of matrix A are \",evals[0])\n"
   ]
  },
  {
   "cell_type": "markdown",
   "metadata": {},
   "source": [
    "# Finding eigenvectors"
   ]
  },
  {
   "cell_type": "code",
   "execution_count": 19,
   "metadata": {},
   "outputs": [
    {
     "name": "stdout",
     "output_type": "stream",
     "text": [
      "The eigen values of A are:\n",
      " [ 3. -1.]\n",
      "\n",
      "\n",
      "The eigen vectors of A are:\n",
      " [[ 0.70710678 -0.70710678]\n",
      " [ 0.70710678  0.70710678]]\n",
      "\n",
      "\n",
      "The magnitude of eigevectors will be 1:\n",
      " 0.9999999999999999 0.9999999999999999\n"
     ]
    }
   ],
   "source": [
    "# matrix\n",
    "A = [ [1,2], [2,1] ]\n",
    "\n",
    "# eigenvectors (compare with code above)\n",
    "evals,evecs = np.linalg.eig(A)\n",
    "print(\"The eigen values of A are:\\n\",evals)\n",
    "print(\"\\n\")\n",
    "print(\"The eigen vectors of A are:\\n\",evecs)\n",
    "# computing the norm of each eigenvector\n",
    "mag_v1 = np.sqrt( np.sum( np.square(evecs[:,0])) )\n",
    "mag_v2 = np.sqrt( np.sum( np.square(evecs[:,1])) )\n",
    "print(\"\\n\")\n",
    "print(\"The magnitude of eigevectors will be 1:\\n\",mag_v1,mag_v2)\n",
    "\n"
   ]
  }
 ],
 "metadata": {
  "kernelspec": {
   "display_name": "Python 3",
   "language": "python",
   "name": "python3"
  },
  "language_info": {
   "codemirror_mode": {
    "name": "ipython",
    "version": 3
   },
   "file_extension": ".py",
   "mimetype": "text/x-python",
   "name": "python",
   "nbconvert_exporter": "python",
   "pygments_lexer": "ipython3",
   "version": "3.7.3"
  }
 },
 "nbformat": 4,
 "nbformat_minor": 2
}
