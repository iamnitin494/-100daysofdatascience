{
 "cells": [
  {
   "cell_type": "code",
   "execution_count": 1,
   "metadata": {},
   "outputs": [],
   "source": [
    "import numpy as np\n",
    "import matplotlib.pyplot as plt\n",
    "import math"
   ]
  },
  {
   "cell_type": "markdown",
   "metadata": {},
   "source": [
    "# Rank of a Matrix\n"
   ]
  },
  {
   "cell_type": "code",
   "execution_count": 15,
   "metadata": {},
   "outputs": [
    {
     "name": "stdout",
     "output_type": "stream",
     "text": [
      "rank of matrix A is = 4\n"
     ]
    }
   ],
   "source": [
    "# creating a matrix A\n",
    "m = 4\n",
    "n = 6\n",
    "A = np.round( 10*np.random.randn(m,n) )\n",
    "\n",
    "# largest possible rank of A is the minimum of (m,n)\n",
    "rank_A = np.linalg.matrix_rank(A)\n",
    "print('rank of matrix A is = ' + str(rank_A))\n",
    "\n"
   ]
  },
  {
   "cell_type": "code",
   "execution_count": 14,
   "metadata": {},
   "outputs": [
    {
     "name": "stdout",
     "output_type": "stream",
     "text": [
      "rank of Matrix A (w/o noise) = 3\n",
      "rank of Matrix B (with noise) = 4\n"
     ]
    }
   ],
   "source": [
    "## adding noise to the rank deficient matrix to make it full rank matrix\n",
    "\n",
    "# Creating a square matrix\n",
    "m=4\n",
    "A = np.round( 10*np.random.randn(m,m) )\n",
    "\n",
    "# Making A a reduced rank matrix\n",
    "A[:,m-1] = A[:,m-2]\n",
    "\n",
    "# noise level\n",
    "noiseamp = .001\n",
    "\n",
    "# adding the noise to the matrix A\n",
    "B = A + noiseamp*np.random.randn(m,m)\n",
    "\n",
    "print('rank of Matrix A (w/o noise) = ' + str(np.linalg.matrix_rank(A)))\n",
    "print('rank of Matrix B (with noise) = ' + str(np.linalg.matrix_rank(B)))\n"
   ]
  },
  {
   "cell_type": "markdown",
   "metadata": {},
   "source": [
    "# Rank of A^TA and AA^T\n"
   ]
  },
  {
   "cell_type": "code",
   "execution_count": 20,
   "metadata": {},
   "outputs": [
    {
     "name": "stdout",
     "output_type": "stream",
     "text": [
      "A_transposeA: 3x3, rank=3\n",
      "A_Atranspose: 14x14, rank=3\n"
     ]
    }
   ],
   "source": [
    "# matrix sizes\n",
    "m = 14\n",
    "n =  3\n",
    "\n",
    "# creating a rectangular matrix\n",
    "A = np.round( 10*np.random.randn(m,n) )\n",
    "\n",
    "#Creating a symmetric matrix from rectangular matrix\n",
    "A_transposeA = np.matrix.transpose(A)@A\n",
    "A_Atranspose = A@np.matrix.transpose(A)\n",
    "\n",
    "# get matrix sizes\n",
    "sizeAtA = A_transposeA.shape\n",
    "sizeAAt = A_Atranspose.shape\n",
    "\n",
    "#Rank of matrix will remain same no matter if we pre multiply by transpose of A or post multiply by it\n",
    "print('A_transposeA: %dx%d, rank=%d' %(sizeAtA[0],sizeAtA[1],np.linalg.matrix_rank(A_transposeA)))\n",
    "print('A_Atranspose: %dx%d, rank=%d' %(sizeAAt[0],sizeAAt[1],np.linalg.matrix_rank(A_Atranspose)))\n"
   ]
  },
  {
   "cell_type": "markdown",
   "metadata": {},
   "source": [
    "# Making a rank deficient matrix to a full-rank by \"shifting\"\n"
   ]
  },
  {
   "cell_type": "code",
   "execution_count": 21,
   "metadata": {},
   "outputs": [
    {
     "name": "stdout",
     "output_type": "stream",
     "text": [
      "rank of matrix A (w/o shift) = 9\n",
      "rank of matrix B (after shift) = 10\n"
     ]
    }
   ],
   "source": [
    "# size of matrix\n",
    "m = 10\n",
    "\n",
    "# creating the square symmetric matrix\n",
    "A = np.random.randn(m,m)\n",
    "A = np.round( 10*np.matrix.transpose(A)@A )\n",
    "\n",
    "# making it a rank deficient matrix by making one column equal to another, making it linearly dependent.\n",
    "A[:,0] = A[:,1]\n",
    "\n",
    "# shift amount (l)\n",
    "l = .01\n",
    "\n",
    "# new full rank matrix\n",
    "B = A + l*np.eye(m,m)\n",
    "\n",
    "print('rank of matrix A (w/o shift) = %d' %np.linalg.matrix_rank(A))\n",
    "print('rank of matrix B (after shift) = %d' %np.linalg.matrix_rank(B))\n"
   ]
  }
 ],
 "metadata": {
  "kernelspec": {
   "display_name": "Python 3",
   "language": "python",
   "name": "python3"
  },
  "language_info": {
   "codemirror_mode": {
    "name": "ipython",
    "version": 3
   },
   "file_extension": ".py",
   "mimetype": "text/x-python",
   "name": "python",
   "nbconvert_exporter": "python",
   "pygments_lexer": "ipython3",
   "version": "3.7.3"
  }
 },
 "nbformat": 4,
 "nbformat_minor": 2
}
