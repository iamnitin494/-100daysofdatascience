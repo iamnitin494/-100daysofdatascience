{
 "cells": [
  {
   "cell_type": "code",
   "execution_count": 1,
   "metadata": {},
   "outputs": [],
   "source": [
    "import numpy as np\n",
    "import matplotlib.pyplot as plt\n",
    "from sympy import *\n"
   ]
  },
  {
   "cell_type": "markdown",
   "metadata": {},
   "source": [
    "# Singular value decomposition\n"
   ]
  },
  {
   "cell_type": "code",
   "execution_count": 11,
   "metadata": {},
   "outputs": [
    {
     "name": "stdout",
     "output_type": "stream",
     "text": [
      "The matrix U is:\n",
      " [[-0.52138438 -0.85332193]\n",
      " [-0.85332193  0.52138438]]\n",
      "\n",
      "\n",
      "The matrix S is:\n",
      " [9.89086518 3.18916698]\n",
      "\n",
      "\n",
      "The matrix V is:\n",
      " [[-0.84833111 -0.08627374 -0.52238986]\n",
      " [ 0.50518185  0.16348607 -0.84738634]\n",
      " [-0.15851066  0.98276607  0.09510639]]\n"
     ]
    }
   ],
   "source": [
    "#U and V are orthogonal matrices with orthonormal eigenvectors\n",
    "#S is a diagonal matrix with elements equal to the root of the positive eigenvalues of AAᵀ or Aᵀ A \n",
    "# the matrix\n",
    "A = [ [3,0,5], [8,1,3] ]\n",
    "\n",
    "U,S,V = np.linalg.svd(A)\n",
    "print(\"The matrix U is:\\n\",U)\n",
    "print(\"\\n\")\n",
    "print(\"The matrix S is:\\n\",S)\n",
    "print(\"\\n\")\n",
    "print(\"The matrix V is:\\n\",V)"
   ]
  }
 ],
 "metadata": {
  "kernelspec": {
   "display_name": "Python 3",
   "language": "python",
   "name": "python3"
  },
  "language_info": {
   "codemirror_mode": {
    "name": "ipython",
    "version": 3
   },
   "file_extension": ".py",
   "mimetype": "text/x-python",
   "name": "python",
   "nbconvert_exporter": "python",
   "pygments_lexer": "ipython3",
   "version": "3.7.3"
  }
 },
 "nbformat": 4,
 "nbformat_minor": 2
}
