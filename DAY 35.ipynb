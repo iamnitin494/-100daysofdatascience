{
 "cells": [
  {
   "cell_type": "code",
   "execution_count": 1,
   "metadata": {},
   "outputs": [],
   "source": [
    "import numpy as np\n",
    "import pandas as pd\n",
    "import matplotlib.pyplot as plt\n",
    "import seaborn as sns"
   ]
  },
  {
   "cell_type": "code",
   "execution_count": 2,
   "metadata": {},
   "outputs": [
    {
     "name": "stderr",
     "output_type": "stream",
     "text": [
      "C:\\Users\\owner\\Anaconda3\\lib\\site-packages\\ipykernel_launcher.py:1: ParserWarning: Falling back to the 'python' engine because the 'c' engine does not support regex separators (separators > 1 char and different from '\\s+' are interpreted as regex); you can avoid this warning by specifying engine='python'.\n",
      "  \"\"\"Entry point for launching an IPython kernel.\n"
     ]
    }
   ],
   "source": [
    "df= pd.read_csv(r\"C:\\\\Users\\\\owner\\\\Downloads\\\\paper.txt\",sep=\"\\s\", header= None)"
   ]
  },
  {
   "cell_type": "code",
   "execution_count": 3,
   "metadata": {},
   "outputs": [],
   "source": [
    "df.drop([1,3], axis=1, inplace=True)"
   ]
  },
  {
   "cell_type": "code",
   "execution_count": 53,
   "metadata": {},
   "outputs": [
    {
     "data": {
      "text/html": [
       "<div>\n",
       "<style scoped>\n",
       "    .dataframe tbody tr th:only-of-type {\n",
       "        vertical-align: middle;\n",
       "    }\n",
       "\n",
       "    .dataframe tbody tr th {\n",
       "        vertical-align: top;\n",
       "    }\n",
       "\n",
       "    .dataframe thead th {\n",
       "        text-align: right;\n",
       "    }\n",
       "</style>\n",
       "<table border=\"1\" class=\"dataframe\">\n",
       "  <thead>\n",
       "    <tr style=\"text-align: right;\">\n",
       "      <th></th>\n",
       "      <th>x1</th>\n",
       "      <th>x2</th>\n",
       "      <th>x3</th>\n",
       "    </tr>\n",
       "  </thead>\n",
       "  <tbody>\n",
       "    <tr>\n",
       "      <th>0</th>\n",
       "      <td>0.801</td>\n",
       "      <td>121.41</td>\n",
       "      <td>70.42</td>\n",
       "    </tr>\n",
       "    <tr>\n",
       "      <th>1</th>\n",
       "      <td>0.824</td>\n",
       "      <td>127.70</td>\n",
       "      <td>72.47</td>\n",
       "    </tr>\n",
       "    <tr>\n",
       "      <th>2</th>\n",
       "      <td>0.841</td>\n",
       "      <td>129.20</td>\n",
       "      <td>78.20</td>\n",
       "    </tr>\n",
       "    <tr>\n",
       "      <th>3</th>\n",
       "      <td>0.816</td>\n",
       "      <td>131.80</td>\n",
       "      <td>74.89</td>\n",
       "    </tr>\n",
       "    <tr>\n",
       "      <th>4</th>\n",
       "      <td>0.840</td>\n",
       "      <td>135.10</td>\n",
       "      <td>71.21</td>\n",
       "    </tr>\n",
       "  </tbody>\n",
       "</table>\n",
       "</div>"
      ],
      "text/plain": [
       "      x1      x2     x3\n",
       "0  0.801  121.41  70.42\n",
       "1  0.824  127.70  72.47\n",
       "2  0.841  129.20  78.20\n",
       "3  0.816  131.80  74.89\n",
       "4  0.840  135.10  71.21"
      ]
     },
     "execution_count": 53,
     "metadata": {},
     "output_type": "execute_result"
    }
   ],
   "source": [
    "df.head()"
   ]
  },
  {
   "cell_type": "code",
   "execution_count": 5,
   "metadata": {},
   "outputs": [],
   "source": [
    "df.rename({0:\"x1\",2:\"x2\",4:\"x3\"},axis=1, inplace=True)"
   ]
  },
  {
   "cell_type": "code",
   "execution_count": 6,
   "metadata": {},
   "outputs": [
    {
     "data": {
      "text/html": [
       "<div>\n",
       "<style scoped>\n",
       "    .dataframe tbody tr th:only-of-type {\n",
       "        vertical-align: middle;\n",
       "    }\n",
       "\n",
       "    .dataframe tbody tr th {\n",
       "        vertical-align: top;\n",
       "    }\n",
       "\n",
       "    .dataframe thead th {\n",
       "        text-align: right;\n",
       "    }\n",
       "</style>\n",
       "<table border=\"1\" class=\"dataframe\">\n",
       "  <thead>\n",
       "    <tr style=\"text-align: right;\">\n",
       "      <th></th>\n",
       "      <th>x1</th>\n",
       "      <th>x2</th>\n",
       "      <th>x3</th>\n",
       "    </tr>\n",
       "  </thead>\n",
       "  <tbody>\n",
       "    <tr>\n",
       "      <th>0</th>\n",
       "      <td>0.801</td>\n",
       "      <td>121.41</td>\n",
       "      <td>70.42</td>\n",
       "    </tr>\n",
       "    <tr>\n",
       "      <th>1</th>\n",
       "      <td>0.824</td>\n",
       "      <td>127.70</td>\n",
       "      <td>72.47</td>\n",
       "    </tr>\n",
       "    <tr>\n",
       "      <th>2</th>\n",
       "      <td>0.841</td>\n",
       "      <td>129.20</td>\n",
       "      <td>78.20</td>\n",
       "    </tr>\n",
       "    <tr>\n",
       "      <th>3</th>\n",
       "      <td>0.816</td>\n",
       "      <td>131.80</td>\n",
       "      <td>74.89</td>\n",
       "    </tr>\n",
       "    <tr>\n",
       "      <th>4</th>\n",
       "      <td>0.840</td>\n",
       "      <td>135.10</td>\n",
       "      <td>71.21</td>\n",
       "    </tr>\n",
       "  </tbody>\n",
       "</table>\n",
       "</div>"
      ],
      "text/plain": [
       "      x1      x2     x3\n",
       "0  0.801  121.41  70.42\n",
       "1  0.824  127.70  72.47\n",
       "2  0.841  129.20  78.20\n",
       "3  0.816  131.80  74.89\n",
       "4  0.840  135.10  71.21"
      ]
     },
     "execution_count": 6,
     "metadata": {},
     "output_type": "execute_result"
    }
   ],
   "source": [
    "df.head()"
   ]
  },
  {
   "cell_type": "code",
   "execution_count": 7,
   "metadata": {},
   "outputs": [
    {
     "data": {
      "text/html": [
       "<div>\n",
       "<style scoped>\n",
       "    .dataframe tbody tr th:only-of-type {\n",
       "        vertical-align: middle;\n",
       "    }\n",
       "\n",
       "    .dataframe tbody tr th {\n",
       "        vertical-align: top;\n",
       "    }\n",
       "\n",
       "    .dataframe thead th {\n",
       "        text-align: right;\n",
       "    }\n",
       "</style>\n",
       "<table border=\"1\" class=\"dataframe\">\n",
       "  <thead>\n",
       "    <tr style=\"text-align: right;\">\n",
       "      <th></th>\n",
       "      <th>x1</th>\n",
       "      <th>x2</th>\n",
       "      <th>x3</th>\n",
       "    </tr>\n",
       "  </thead>\n",
       "  <tbody>\n",
       "    <tr>\n",
       "      <th>count</th>\n",
       "      <td>41.000000</td>\n",
       "      <td>41.000000</td>\n",
       "      <td>41.000000</td>\n",
       "    </tr>\n",
       "    <tr>\n",
       "      <th>mean</th>\n",
       "      <td>0.811854</td>\n",
       "      <td>120.953415</td>\n",
       "      <td>67.723171</td>\n",
       "    </tr>\n",
       "    <tr>\n",
       "      <th>std</th>\n",
       "      <td>0.035561</td>\n",
       "      <td>7.702022</td>\n",
       "      <td>9.790642</td>\n",
       "    </tr>\n",
       "    <tr>\n",
       "      <th>min</th>\n",
       "      <td>0.758000</td>\n",
       "      <td>103.510000</td>\n",
       "      <td>48.930000</td>\n",
       "    </tr>\n",
       "    <tr>\n",
       "      <th>25%</th>\n",
       "      <td>0.795000</td>\n",
       "      <td>115.100000</td>\n",
       "      <td>56.530000</td>\n",
       "    </tr>\n",
       "    <tr>\n",
       "      <th>50%</th>\n",
       "      <td>0.815000</td>\n",
       "      <td>121.410000</td>\n",
       "      <td>70.700000</td>\n",
       "    </tr>\n",
       "    <tr>\n",
       "      <th>75%</th>\n",
       "      <td>0.826000</td>\n",
       "      <td>126.700000</td>\n",
       "      <td>74.890000</td>\n",
       "    </tr>\n",
       "    <tr>\n",
       "      <th>max</th>\n",
       "      <td>0.971000</td>\n",
       "      <td>135.100000</td>\n",
       "      <td>80.330000</td>\n",
       "    </tr>\n",
       "  </tbody>\n",
       "</table>\n",
       "</div>"
      ],
      "text/plain": [
       "              x1          x2         x3\n",
       "count  41.000000   41.000000  41.000000\n",
       "mean    0.811854  120.953415  67.723171\n",
       "std     0.035561    7.702022   9.790642\n",
       "min     0.758000  103.510000  48.930000\n",
       "25%     0.795000  115.100000  56.530000\n",
       "50%     0.815000  121.410000  70.700000\n",
       "75%     0.826000  126.700000  74.890000\n",
       "max     0.971000  135.100000  80.330000"
      ]
     },
     "execution_count": 7,
     "metadata": {},
     "output_type": "execute_result"
    }
   ],
   "source": [
    "df.describe()"
   ]
  },
  {
   "cell_type": "code",
   "execution_count": 8,
   "metadata": {},
   "outputs": [],
   "source": [
    "q11, q31= np.percentile(df['x1'],[25,75])\n",
    "iqr_x1 = q31 - q11"
   ]
  },
  {
   "cell_type": "code",
   "execution_count": 9,
   "metadata": {},
   "outputs": [],
   "source": [
    "q12, q32= np.percentile(df['x2'],[25,75])\n",
    "iqr_x2 = q32 - q12"
   ]
  },
  {
   "cell_type": "code",
   "execution_count": 10,
   "metadata": {},
   "outputs": [],
   "source": [
    "q13, q33= np.percentile(df['x3'],[25,75])\n",
    "iqr_x3 = q33 - q13"
   ]
  },
  {
   "cell_type": "code",
   "execution_count": 11,
   "metadata": {},
   "outputs": [],
   "source": [
    "lower_bound_x1 = q11 -(1.5 * iqr_x1) \n",
    "upper_bound_x1 = q31 +(1.5 * iqr_x1)"
   ]
  },
  {
   "cell_type": "code",
   "execution_count": 12,
   "metadata": {},
   "outputs": [],
   "source": [
    "lower_bound_x2 = q12 -(1.5 * iqr_x2) \n",
    "upper_bound_x2 = q32 +(1.5 * iqr_x2)"
   ]
  },
  {
   "cell_type": "code",
   "execution_count": 13,
   "metadata": {},
   "outputs": [],
   "source": [
    "lower_bound_x3 = q13 -(1.5 * iqr_x3) \n",
    "upper_bound_x3 = q33 +(1.5 * iqr_x3)"
   ]
  },
  {
   "cell_type": "code",
   "execution_count": 58,
   "metadata": {},
   "outputs": [
    {
     "data": {
      "text/plain": [
       "0.7485000000000002"
      ]
     },
     "execution_count": 58,
     "metadata": {},
     "output_type": "execute_result"
    }
   ],
   "source": [
    "lower_bound_x1"
   ]
  },
  {
   "cell_type": "code",
   "execution_count": 59,
   "metadata": {},
   "outputs": [
    {
     "data": {
      "text/plain": [
       "0.8724999999999998"
      ]
     },
     "execution_count": 59,
     "metadata": {},
     "output_type": "execute_result"
    }
   ],
   "source": [
    "upper_bound_x1"
   ]
  },
  {
   "cell_type": "code",
   "execution_count": 64,
   "metadata": {},
   "outputs": [
    {
     "name": "stdout",
     "output_type": "stream",
     "text": [
      "0.971\n"
     ]
    }
   ],
   "source": [
    "for x in df[\"x1\"]:\n",
    "    if ((x<lower_bound_x1) | (x>upper_bound_x1)):\n",
    "        print(x)"
   ]
  },
  {
   "cell_type": "code",
   "execution_count": 65,
   "metadata": {},
   "outputs": [],
   "source": [
    "for x in df[\"x2\"]:\n",
    "    if ((x<lower_bound_x2) | (x>upper_bound_x2)):\n",
    "        print(x)"
   ]
  },
  {
   "cell_type": "code",
   "execution_count": 66,
   "metadata": {},
   "outputs": [],
   "source": [
    "for x in df[\"x3\"]:\n",
    "    if ((x<lower_bound_x3) | (x>upper_bound_x3)):\n",
    "        print(x)"
   ]
  },
  {
   "cell_type": "code",
   "execution_count": null,
   "metadata": {},
   "outputs": [],
   "source": []
  },
  {
   "cell_type": "code",
   "execution_count": 14,
   "metadata": {},
   "outputs": [
    {
     "data": {
      "text/plain": [
       "<seaborn.axisgrid.PairGrid at 0x19575fb8f28>"
      ]
     },
     "execution_count": 14,
     "metadata": {},
     "output_type": "execute_result"
    },
    {
     "data": {
      "image/png": "[encoded data removed]",
      "text/plain": [
       "<Figure size 540x540 with 12 Axes>"
      ]
     },
     "metadata": {
      "needs_background": "light"
     },
     "output_type": "display_data"
    }
   ],
   "source": [
    "sns.pairplot(df)"
   ]
  },
  {
   "cell_type": "code",
   "execution_count": 15,
   "metadata": {},
   "outputs": [],
   "source": [
    "X= np.array([6,1,2])\n",
    "Y=np.array([-1,2,1])"
   ]
  },
  {
   "cell_type": "code",
   "execution_count": 16,
   "metadata": {},
   "outputs": [
    {
     "data": {
      "text/plain": [
       "<matplotlib.axes._subplots.AxesSubplot at 0x19577799f28>"
      ]
     },
     "execution_count": 16,
     "metadata": {},
     "output_type": "execute_result"
    },
    {
     "data": {
      "image/png": "[encoded data removed]",
      "text/plain": [
       "<Figure size 432x288 with 1 Axes>"
      ]
     },
     "metadata": {
      "needs_background": "light"
     },
     "output_type": "display_data"
    }
   ],
   "source": [
    "sns.scatterplot(X,Y)"
   ]
  },
  {
   "cell_type": "code",
   "execution_count": null,
   "metadata": {},
   "outputs": [],
   "source": []
  },
  {
   "cell_type": "code",
   "execution_count": 17,
   "metadata": {},
   "outputs": [],
   "source": [
    "len_X= np.sqrt(np.matrix.transpose(X)@X)\n",
    "len_Y= np.sqrt(np.matrix.transpose(Y)@Y)\n",
    "dp_XY= np.dot(X,Y)"
   ]
  },
  {
   "cell_type": "code",
   "execution_count": 18,
   "metadata": {},
   "outputs": [
    {
     "data": {
      "text/plain": [
       "1.9106332362490186"
      ]
     },
     "execution_count": 18,
     "metadata": {},
     "output_type": "execute_result"
    }
   ],
   "source": [
    "np.arccos(dp_XY/(len_Y*len_Y))"
   ]
  },
  {
   "cell_type": "code",
   "execution_count": 19,
   "metadata": {},
   "outputs": [
    {
     "name": "stdout",
     "output_type": "stream",
     "text": [
      "projection of y on X=:\n",
      " [-0.29268293 -0.04878049 -0.09756098]\n"
     ]
    }
   ],
   "source": [
    "beta = (np.matrix.transpose(X)@Y) / (np.matrix.transpose(X)@X)\n",
    "print(\"projection of y on X=:\\n\",beta*X)"
   ]
  },
  {
   "cell_type": "code",
   "execution_count": 20,
   "metadata": {},
   "outputs": [
    {
     "data": {
      "text/plain": [
       "array([[ 0.30769231,  0.84615385],\n",
       "       [-0.84615385,  0.30769231]])"
      ]
     },
     "execution_count": 20,
     "metadata": {},
     "output_type": "execute_result"
    }
   ],
   "source": [
    "Q= np.array([[4/13,11/13],[-11/13,4/13]])\n",
    "Q"
   ]
  },
  {
   "cell_type": "code",
   "execution_count": 21,
   "metadata": {},
   "outputs": [
    {
     "name": "stdout",
     "output_type": "stream",
     "text": [
      "The dot product of two columns of a matrix is zero:\n",
      " 0.0\n",
      "The length of each vector should be 1:\n",
      " 0.9003615315938174 0.9003615315938174\n"
     ]
    }
   ],
   "source": [
    "q1= np.array([4/13,-11/13])\n",
    "q2= np.array([11/13,4/13])\n",
    "print(\"The dot product of two columns of a matrix is zero:\\n\",np.dot(q1,q2))\n",
    "print(\"The length of each vector should be 1:\\n\",np.sqrt(np.matrix.transpose(q1)@q1), np.sqrt(np.matrix.transpose(q2)@q2))"
   ]
  },
  {
   "cell_type": "code",
   "execution_count": 22,
   "metadata": {},
   "outputs": [
    {
     "data": {
      "text/plain": [
       "array([[ 9, -3],\n",
       "       [-3,  5]])"
      ]
     },
     "execution_count": 22,
     "metadata": {},
     "output_type": "execute_result"
    }
   ],
   "source": [
    "A= np.array([[9,-3],[-3,5]])\n",
    "A"
   ]
  },
  {
   "cell_type": "code",
   "execution_count": 23,
   "metadata": {},
   "outputs": [
    {
     "data": {
      "text/plain": [
       "array([[ 90, -42],\n",
       "       [-42,  34]])"
      ]
     },
     "execution_count": 23,
     "metadata": {},
     "output_type": "execute_result"
    }
   ],
   "source": [
    "ATA = A@np.matrix.transpose(A)\n",
    "ATA"
   ]
  },
  {
   "cell_type": "code",
   "execution_count": 24,
   "metadata": {},
   "outputs": [
    {
     "name": "stdout",
     "output_type": "stream",
     "text": [
      "The eigen values of ATA are:\n",
      " [112.47771786  11.52228214]\n",
      "\n",
      "\n",
      "The eigen vectors of ATA are:\n",
      " [[ 0.8816746   0.47185793]\n",
      " [-0.47185793  0.8816746 ]]\n"
     ]
    }
   ],
   "source": [
    "evals,evecs = np.linalg.eig(ATA)\n",
    "print(\"The eigen values of ATA are:\\n\",evals)\n",
    "print(\"\\n\")\n",
    "print(\"The eigen vectors of ATA are:\\n\",evecs)"
   ]
  },
  {
   "cell_type": "code",
   "execution_count": 25,
   "metadata": {},
   "outputs": [
    {
     "data": {
      "text/plain": [
       "(array([[-0.8816746 ,  0.47185793],\n",
       "        [ 0.47185793,  0.8816746 ]]),\n",
       " array([10.60555128,  3.39444872]),\n",
       " array([[-0.8816746 ,  0.47185793],\n",
       "        [ 0.47185793,  0.8816746 ]]))"
      ]
     },
     "execution_count": 25,
     "metadata": {},
     "output_type": "execute_result"
    }
   ],
   "source": [
    "np.linalg.svd(A)"
   ]
  },
  {
   "cell_type": "code",
   "execution_count": 26,
   "metadata": {},
   "outputs": [],
   "source": [
    "A= np.array([[2,1],[1,4]])\n",
    "B= np.array([[1,4,3],[5,1,3]])\n",
    "C= np.array([[1,4],[3,2]])\n"
   ]
  },
  {
   "cell_type": "code",
   "execution_count": 27,
   "metadata": {},
   "outputs": [
    {
     "name": "stdout",
     "output_type": "stream",
     "text": [
      "[[2 1]\n",
      " [1 4]]\n",
      "\n",
      "\n",
      "The transpose of a transpose of a matrix is equal to the matrix:\n",
      " [[2 1]\n",
      " [1 4]]\n"
     ]
    }
   ],
   "source": [
    "print(A)\n",
    "print(\"\\n\")\n",
    "print(\"The transpose of a transpose of a matrix is equal to the matrix:\\n\", np.matrix.transpose(np.matrix.transpose(A)))"
   ]
  },
  {
   "cell_type": "code",
   "execution_count": 28,
   "metadata": {},
   "outputs": [
    {
     "name": "stdout",
     "output_type": "stream",
     "text": [
      "The transpose of a matrix inverse is equal to inverse of its transpose:\n",
      "\n",
      "CT_inv=:\n",
      "  [[-0.2  0.3]\n",
      " [ 0.4 -0.1]]\n",
      "\n",
      "\n",
      "Cinv_T=:\n",
      "  [[-0.2  0.3]\n",
      " [ 0.4 -0.1]]\n"
     ]
    }
   ],
   "source": [
    "Cinv_T= np.matrix.transpose(np.linalg.inv(C))\n",
    "CT= np.matrix.transpose(C)\n",
    "CT_inv= np.linalg.inv(CT)\n",
    "print(\"The transpose of a matrix inverse is equal to inverse of its transpose:\\n\" )\n",
    "print(\"CT_inv=:\\n \", CT_inv)\n",
    "print(\"\\n\")\n",
    "print(\"Cinv_T=:\\n \", Cinv_T)"
   ]
  },
  {
   "cell_type": "code",
   "execution_count": 29,
   "metadata": {},
   "outputs": [
    {
     "name": "stdout",
     "output_type": "stream",
     "text": [
      "[[ 7 21]\n",
      " [ 9  8]\n",
      " [ 9 15]]\n",
      "\n",
      "\n",
      "[[ 7 21]\n",
      " [ 9  8]\n",
      " [ 9 15]]\n"
     ]
    }
   ],
   "source": [
    "ABt= np.matrix.transpose(A@B)\n",
    "BtAt= np.matrix.transpose(B)@np.matrix.transpose(A)\n",
    "print(ABt)\n",
    "print(\"\\n\")\n",
    "print(BtAt)"
   ]
  },
  {
   "cell_type": "code",
   "execution_count": 30,
   "metadata": {},
   "outputs": [],
   "source": [
    "A= np.array([[-1,3],[5,2]])\n",
    "B= np.array([[4,-3],[1,-3],[-2,0]])\n",
    "C= np.array([5,-3,2])\n"
   ]
  },
  {
   "cell_type": "code",
   "execution_count": 31,
   "metadata": {},
   "outputs": [
    {
     "data": {
      "text/plain": [
       "array([[-5, 15],\n",
       "       [25, 10]])"
      ]
     },
     "execution_count": 31,
     "metadata": {},
     "output_type": "execute_result"
    }
   ],
   "source": [
    "5*A"
   ]
  },
  {
   "cell_type": "code",
   "execution_count": 32,
   "metadata": {},
   "outputs": [
    {
     "data": {
      "text/plain": [
       "array([[-19,   6],\n",
       "       [-16,  -3],\n",
       "       [  2,  -6]])"
      ]
     },
     "execution_count": 32,
     "metadata": {},
     "output_type": "execute_result"
    }
   ],
   "source": [
    "B@A"
   ]
  },
  {
   "cell_type": "code",
   "execution_count": 33,
   "metadata": {},
   "outputs": [
    {
     "data": {
      "text/plain": [
       "array([[-19, -16,   2],\n",
       "       [  6,  -3,  -6]])"
      ]
     },
     "execution_count": 33,
     "metadata": {},
     "output_type": "execute_result"
    }
   ],
   "source": [
    "np.matrix.transpose(A)@np.matrix.transpose(B)"
   ]
  },
  {
   "cell_type": "code",
   "execution_count": 34,
   "metadata": {},
   "outputs": [
    {
     "data": {
      "text/plain": [
       "array([13, -6])"
      ]
     },
     "execution_count": 34,
     "metadata": {},
     "output_type": "execute_result"
    }
   ],
   "source": [
    "np.matrix.transpose(C)@B"
   ]
  },
  {
   "cell_type": "code",
   "execution_count": 35,
   "metadata": {},
   "outputs": [
    {
     "ename": "ValueError",
     "evalue": "matmul: Input operand 1 has a mismatch in its core dimension 0, with gufunc signature (n?,k),(k,m?)->(n?,m?) (size 3 is different from 2)",
     "output_type": "error",
     "traceback": [
      "\u001b[1;31m---------------------------------------------------------------------------\u001b[0m",
      "\u001b[1;31mValueError\u001b[0m                                Traceback (most recent call last)",
      "\u001b[1;32m<ipython-input-35-5016aafd2858>\u001b[0m in \u001b[0;36m<module>\u001b[1;34m\u001b[0m\n\u001b[1;32m----> 1\u001b[1;33m \u001b[0mA\u001b[0m\u001b[1;33m@\u001b[0m\u001b[0mB\u001b[0m\u001b[1;33m\u001b[0m\u001b[1;33m\u001b[0m\u001b[0m\n\u001b[0m",
      "\u001b[1;31mValueError\u001b[0m: matmul: Input operand 1 has a mismatch in its core dimension 0, with gufunc signature (n?,k),(k,m?)->(n?,m?) (size 3 is different from 2)"
     ]
    }
   ],
   "source": [
    "A@B"
   ]
  },
  {
   "cell_type": "code",
   "execution_count": 36,
   "metadata": {},
   "outputs": [
    {
     "name": "stdout",
     "output_type": "stream",
     "text": [
      "The eigen values of A are:\n",
      " [ 1.82842712 -3.82842712]\n",
      "\n",
      "\n",
      "The eigen vectors of A are:\n",
      " [[ 0.92387953 -0.38268343]\n",
      " [ 0.38268343  0.92387953]]\n"
     ]
    }
   ],
   "source": [
    "A= np.array([[1,2],[2,-3]])\n",
    "evals, evecs= np.linalg.eig(A)\n",
    "print(\"The eigen values of A are:\\n\",evals)\n",
    "print(\"\\n\")\n",
    "print(\"The eigen vectors of A are:\\n\",evecs)"
   ]
  },
  {
   "cell_type": "code",
   "execution_count": 37,
   "metadata": {},
   "outputs": [
    {
     "data": {
      "text/plain": [
       "array([[ 0.42857143,  0.28571429],\n",
       "       [ 0.28571429, -0.14285714]])"
      ]
     },
     "execution_count": 37,
     "metadata": {},
     "output_type": "execute_result"
    }
   ],
   "source": [
    "np.linalg.inv(A)"
   ]
  },
  {
   "cell_type": "code",
   "execution_count": 38,
   "metadata": {},
   "outputs": [
    {
     "name": "stdout",
     "output_type": "stream",
     "text": [
      "The eigen values of Ainverse are:\n",
      " [ 0.54691816 -0.26120387]\n",
      "\n",
      "\n",
      "The eigen vectors of Ainverse are:\n",
      " [[ 0.92387953 -0.38268343]\n",
      " [ 0.38268343  0.92387953]]\n"
     ]
    }
   ],
   "source": [
    "evals, evecs= np.linalg.eig(np.linalg.inv(A))\n",
    "print(\"The eigen values of Ainverse are:\\n\",evals)\n",
    "print(\"\\n\")\n",
    "print(\"The eigen vectors of Ainverse are:\\n\",evecs)"
   ]
  },
  {
   "cell_type": "code",
   "execution_count": 39,
   "metadata": {},
   "outputs": [
    {
     "name": "stdout",
     "output_type": "stream",
     "text": [
      "eigenvalues of AAt\n",
      " [113.32721815 149.67278185]\n",
      "\n",
      "\n",
      "eigenvectors of AAt\n",
      " [[-0.75417782  0.65667025]\n",
      " [-0.65667025 -0.75417782]]\n",
      "\n",
      "\n",
      "eigenvalues of AtA\n",
      " [  0.         113.32721815 149.67278185]\n",
      "\n",
      "\n",
      "eigenvectors of AtA\n",
      " [[-0.75417782  0.65667025]\n",
      " [-0.65667025 -0.75417782]]\n",
      "\n",
      "\n"
     ]
    }
   ],
   "source": [
    "A= np.array([[4,8,7],[3,5,-10]])\n",
    "AAt= A@np.matrix.transpose(A)\n",
    "AtA= np.matrix.transpose(A)@A\n",
    "evals, evecs = np.linalg.eig(AAt)\n",
    "evals1, evecs1 = np.linalg.eig(AtA)\n",
    "print(\"eigenvalues of AAt\\n\", evals)\n",
    "print(\"\\n\")\n",
    "print(\"eigenvectors of AAt\\n\", evecs)\n",
    "print(\"\\n\")\n",
    "print(\"eigenvalues of AtA\\n\", evals1)\n",
    "print(\"\\n\")\n",
    "print(\"eigenvectors of AtA\\n\", evecs)\n",
    "print(\"\\n\")"
   ]
  },
  {
   "cell_type": "code",
   "execution_count": 40,
   "metadata": {},
   "outputs": [
    {
     "data": {
      "text/plain": [
       "(array([[-0.65667025,  0.75417782],\n",
       "        [ 0.75417782,  0.65667025]]),\n",
       " array([12.2340828 , 10.64552573]),\n",
       " array([[-0.029765  , -0.12117565, -0.99218471],\n",
       "        [ 0.46843361,  0.87518212, -0.12093886],\n",
       "        [-0.88299717,  0.46837241, -0.03071294]]))"
      ]
     },
     "execution_count": 40,
     "metadata": {},
     "output_type": "execute_result"
    }
   ],
   "source": [
    "np.linalg.svd(A)"
   ]
  },
  {
   "cell_type": "code",
   "execution_count": 41,
   "metadata": {},
   "outputs": [
    {
     "name": "stdout",
     "output_type": "stream",
     "text": [
      "The inverse of covariance matrix= \n",
      " [[0.25  0.    0.   ]\n",
      " [0.    0.125 0.   ]\n",
      " [0.    0.    0.5  ]]\n",
      "\n",
      "\n",
      "The eigen values of inverse of Cv:\n",
      " [0.25  0.125 0.5  ]\n",
      "\n",
      "\n",
      "The eigen vectors of inverse of Cv:\n",
      " [[1. 0. 0.]\n",
      " [0. 1. 0.]\n",
      " [0. 0. 1.]]\n",
      "\n",
      "\n",
      "The eigen values of Cv:\n",
      " [4. 8. 2.]\n",
      "\n",
      "\n",
      "The eigen vectors of Cv:\n",
      " [[1. 0. 0.]\n",
      " [0. 1. 0.]\n",
      " [0. 0. 1.]]\n"
     ]
    }
   ],
   "source": [
    "Cv= np.array([[4,0,0],[0,8,0],[0,0,2]])\n",
    "Cv_inv=np.linalg.inv(Cv)\n",
    "evals,evecs= np.linalg.eig(Cv_inv)\n",
    "evals1,evecs1= np.linalg.eig(Cv)\n",
    "print(\"The inverse of covariance matrix= \\n\", Cv_inv)\n",
    "print(\"\\n\")\n",
    "print(\"The eigen values of inverse of Cv:\\n\",evals)\n",
    "print(\"\\n\")\n",
    "print(\"The eigen vectors of inverse of Cv:\\n\",evecs)\n",
    "print(\"\\n\")\n",
    "print(\"The eigen values of Cv:\\n\",evals1)\n",
    "print(\"\\n\")\n",
    "print(\"The eigen vectors of Cv:\\n\",evecs1)\n"
   ]
  },
  {
   "cell_type": "code",
   "execution_count": 50,
   "metadata": {},
   "outputs": [
    {
     "name": "stdout",
     "output_type": "stream",
     "text": [
      "The shape of AtA:\n",
      " (4, 4)\n",
      "\n",
      "\n",
      "AtA will be positive definite if all its eigen values are postive:\n",
      " [ 1.02109041e+01  1.66810250e+00 -9.58381721e-17  1.52426944e-02]\n"
     ]
    }
   ],
   "source": [
    "n=3\n",
    "p=4\n",
    "A= np.random.randn(n,p)\n",
    "AtA= np.matrix.transpose(A)@A\n",
    "evals,evecs= np.linalg.eig(AtA)\n",
    "print(\"The shape of AtA:\\n\",AtA.shape)\n",
    "print(\"\\n\")\n",
    "print(\"AtA will be positive definite if all its eigen values are postive:\\n\",evals)"
   ]
  },
  {
   "cell_type": "code",
   "execution_count": 100,
   "metadata": {},
   "outputs": [
    {
     "data": {
      "text/plain": [
       "array([[ 1.02264881, -1.45425704,  0.305973  ],\n",
       "       [ 0.42667643, -0.76700306, -0.00480327],\n",
       "       [-0.09122913, -1.95181165, -1.03480558]])"
      ]
     },
     "execution_count": 100,
     "metadata": {},
     "output_type": "execute_result"
    }
   ],
   "source": [
    "A= (np.random.randn(3,3))\n",
    "A"
   ]
  },
  {
   "cell_type": "code",
   "execution_count": 101,
   "metadata": {},
   "outputs": [
    {
     "name": "stdout",
     "output_type": "stream",
     "text": [
      "Determinant of a singualr matrix is zero:\n",
      " -9.042472880259012e-18\n",
      "\n",
      "\n",
      "The eigen values of A are :\n",
      " [ 1.07127202e+00  4.25007252e-17 -1.08823207e+00]\n"
     ]
    }
   ],
   "source": [
    "A[:,1]=A[:,2]\n",
    "detA= np.linalg.det(A)\n",
    "evals,evecs= np.linalg.eig(A)\n",
    "print(\"Determinant of a singualr matrix is zero:\\n\",detA)\n",
    "print(\"\\n\")\n",
    "print(\"The eigen values of A are :\\n\",evals)"
   ]
  },
  {
   "cell_type": "code",
   "execution_count": null,
   "metadata": {},
   "outputs": [],
   "source": []
  },
  {
   "cell_type": "code",
   "execution_count": null,
   "metadata": {},
   "outputs": [],
   "source": []
  }
 ],
 "metadata": {
  "kernelspec": {
   "display_name": "Python 3",
   "language": "python",
   "name": "python3"
  },
  "language_info": {
   "codemirror_mode": {
    "name": "ipython",
    "version": 3
   },
   "file_extension": ".py",
   "mimetype": "text/x-python",
   "name": "python",
   "nbconvert_exporter": "python",
   "pygments_lexer": "ipython3",
   "version": "3.7.3"
  }
 },
 "nbformat": 4,
 "nbformat_minor": 2
}
