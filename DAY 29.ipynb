{
 "cells": [
  {
   "cell_type": "code",
   "execution_count": 1,
   "metadata": {},
   "outputs": [],
   "source": [
    "import numpy as np\n",
    "import matplotlib.pyplot as plt\n",
    "import math"
   ]
  },
  {
   "cell_type": "markdown",
   "metadata": {},
   "source": [
    "\n",
    "# Standard matrix multiplication"
   ]
  },
  {
   "cell_type": "code",
   "execution_count": 3,
   "metadata": {},
   "outputs": [
    {
     "name": "stdout",
     "output_type": "stream",
     "text": [
      "The multiplication between A and B is:\n",
      " [[ 0.06360428 -0.52640105 -0.10647328  0.25873949  0.07690304 -1.76467679]\n",
      " [-1.56337932 -0.56756885 -0.88423823  0.33343246 -0.15772589  0.10711761]\n",
      " [ 0.00457305 -0.61105758 -0.31719969  0.21754356 -0.38206632 -1.98513938]\n",
      " [-1.77796642 -0.66984875 -1.65538429  0.05098445 -2.0197829  -0.04406698]]\n",
      "\n",
      "\n",
      "The multiplication between transpose of A and C is:\n",
      " [[-0.79081979  1.13787738  0.79710915  1.75206161  0.75289861 -1.87467664]\n",
      " [ 0.12328988 -0.95987819 -0.06288095 -0.17929264 -2.24333523  1.74452775]\n",
      " [ 0.02345515  1.26680772 -0.58776639  0.93226778 -0.36560317 -1.36130775]]\n",
      "\n",
      "\n",
      "The multiplication between B and transpose of B is:\n",
      " [[ 3.26683593 -0.8910902  -2.0459836 ]\n",
      " [-0.8910902   3.19017365  1.69680421]\n",
      " [-2.0459836   1.69680421  8.79767029]]\n",
      "\n",
      "\n",
      "The multiplication between transpose of B and B is:\n",
      " [[ 4.27973743  0.61307202  1.48953251 -0.81006121 -1.41646582 -3.40038709]\n",
      " [ 0.61307202  0.44768277  0.39732418 -0.2464266   0.01067644  0.67809143]\n",
      " [ 1.48953251  0.39732418  0.89058231 -0.2014938   0.41304836 -0.54992046]\n",
      " [-0.81006121 -0.2464266  -0.2014938   0.278358    0.61214192  0.24151253]\n",
      " [-1.41646582  0.01067644  0.41304836  0.61214192  2.87861936  1.92572551]\n",
      " [-3.40038709  0.67809143 -0.54992046  0.24151253  1.92572551  6.47970001]]\n",
      "\n",
      "\n"
     ]
    }
   ],
   "source": [
    "## For matrix multiplication to be valid, inner dimensions must match.\n",
    "\n",
    "m = 4\n",
    "n = 3\n",
    "k = 6\n",
    "\n",
    "# making some matrices\n",
    "A = np.random.randn(m,n)\n",
    "B = np.random.randn(n,k)\n",
    "C = np.random.randn(m,k)\n",
    "\n",
    "print(\"The multiplication between A and B is:\\n\",np.matmul(A,B))\n",
    "print(\"\\n\")\n",
    "\n",
    "\n",
    "print(\"The multiplication between transpose of A and C is:\\n\",np.matmul(np.matrix.transpose(A),C))\n",
    "print(\"\\n\")\n",
    "print(\"The multiplication between B and transpose of B is:\\n\",np.matmul(B,np.matrix.transpose(B)))\n",
    "print(\"\\n\")\n",
    "print(\"The multiplication between transpose of B and B is:\\n\",np.matmul(np.matrix.transpose(B),B))\n",
    "print(\"\\n\")\n"
   ]
  },
  {
   "cell_type": "markdown",
   "metadata": {},
   "source": [
    "\n",
    "# Matrix-vector multiplication\n"
   ]
  },
  {
   "cell_type": "code",
   "execution_count": 6,
   "metadata": {},
   "outputs": [
    {
     "name": "stdout",
     "output_type": "stream",
     "text": [
      "Matrix A is:\n",
      " [[ 0.09756867  0.90357078  0.21820366]\n",
      " [-0.35171022  0.64613633 -0.6747352 ]\n",
      " [-0.20473822  0.98279826  0.17931993]\n",
      " [-1.5900963   0.5675367  -0.90023278]]\n",
      "\n",
      "\n",
      "Vector w is:\n",
      " [-1  0  1  2]\n",
      "\n",
      "\n",
      "The multiplication ofa matrix and vector results in a vector: \n",
      " [-50.  -8.  -6.  19.]\n"
     ]
    }
   ],
   "source": [
    "# number of elements\n",
    "m = 4\n",
    "\n",
    "# creating a matrix\n",
    "N = np.round( 10*np.random.randn(m,m) )\n",
    "\n",
    "# creating a vector\n",
    "w = np.array([-1, 0, 1, 2])\n",
    "print(\"Matrix A is:\\n\",A)\n",
    "print(\"\\n\")\n",
    "print(\"Vector w is:\\n\",w)\n",
    "print(\"\\n\")\n",
    "#The @ symbol is used for matrix multiplication in python.\n",
    "print(\"The multiplication ofa matrix and vector results in a vector: \\n\",N@w)\n"
   ]
  }
 ],
 "metadata": {
  "kernelspec": {
   "display_name": "Python 3",
   "language": "python",
   "name": "python3"
  },
  "language_info": {
   "codemirror_mode": {
    "name": "ipython",
    "version": 3
   },
   "file_extension": ".py",
   "mimetype": "text/x-python",
   "name": "python",
   "nbconvert_exporter": "python",
   "pygments_lexer": "ipython3",
   "version": "3.7.3"
  }
 },
 "nbformat": 4,
 "nbformat_minor": 2
}
