{
 "cells": [
  {
   "cell_type": "markdown",
   "metadata": {},
   "source": [
    "# Extracting json data from API keys\n",
    "*<b>API</b> is designed in a website to provide data and allow your web application to communicate with that data.\n",
    "<br>*You can grab your personal API key by visiting https://openweathermap.org and creating your own account    "
   ]
  },
  {
   "cell_type": "code",
   "execution_count": 1,
   "metadata": {},
   "outputs": [],
   "source": [
    "#importing libraries\n",
    "import requests\n",
    "from pprint import pprint"
   ]
  },
  {
   "cell_type": "code",
   "execution_count": 2,
   "metadata": {},
   "outputs": [],
   "source": [
    "#calling my key from another file\n",
    "with open(\"my_key.txt\") as f:\n",
    "    my_key= f.read()"
   ]
  },
  {
   "cell_type": "code",
   "execution_count": 3,
   "metadata": {},
   "outputs": [
    {
     "name": "stdout",
     "output_type": "stream",
     "text": [
      "Enter your city name  Chandigarh\n"
     ]
    }
   ],
   "source": [
    "#taking input from the user\n",
    "city= input(\"Enter your city name  \")"
   ]
  },
  {
   "cell_type": "code",
   "execution_count": 4,
   "metadata": {},
   "outputs": [],
   "source": [
    "#defining the structure of the requested url from where we will get our data\n",
    "url= \"http://api.openweathermap.org/data/2.5/weather?q={}&appid={}\".format(city, my_key)"
   ]
  },
  {
   "cell_type": "code",
   "execution_count": 5,
   "metadata": {},
   "outputs": [],
   "source": [
    "res= requests.get(url)"
   ]
  },
  {
   "cell_type": "code",
   "execution_count": 6,
   "metadata": {},
   "outputs": [],
   "source": [
    "#saving our data in json format\n",
    "data= res.json()"
   ]
  },
  {
   "cell_type": "code",
   "execution_count": 7,
   "metadata": {},
   "outputs": [
    {
     "name": "stdout",
     "output_type": "stream",
     "text": [
      "{'coord': {'lon': 76.76, 'lat': 30.72}, 'weather': [{'id': 741, 'main': 'Fog', 'description': 'fog', 'icon': '50d'}], 'base': 'stations', 'main': {'temp': 292.15, 'pressure': 1023, 'humidity': 93, 'temp_min': 292.15, 'temp_max': 292.15}, 'wind': {'speed': 1.69, 'deg': 102.444}, 'clouds': {'all': 20}, 'dt': 1569381619, 'sys': {'type': 1, 'id': 9181, 'message': 0.0104, 'country': 'IN', 'sunrise': 1569372153, 'sunset': 1569415629}, 'timezone': 19800, 'id': 1274746, 'name': 'Chandigarh', 'cod': 200}\n"
     ]
    }
   ],
   "source": [
    "print(data)"
   ]
  },
  {
   "cell_type": "code",
   "execution_count": 8,
   "metadata": {},
   "outputs": [
    {
     "name": "stdout",
     "output_type": "stream",
     "text": [
      "{'base': 'stations',\n",
      " 'clouds': {'all': 20},\n",
      " 'cod': 200,\n",
      " 'coord': {'lat': 30.72, 'lon': 76.76},\n",
      " 'dt': 1569381619,\n",
      " 'id': 1274746,\n",
      " 'main': {'humidity': 93,\n",
      "          'pressure': 1023,\n",
      "          'temp': 292.15,\n",
      "          'temp_max': 292.15,\n",
      "          'temp_min': 292.15},\n",
      " 'name': 'Chandigarh',\n",
      " 'sys': {'country': 'IN',\n",
      "         'id': 9181,\n",
      "         'message': 0.0104,\n",
      "         'sunrise': 1569372153,\n",
      "         'sunset': 1569415629,\n",
      "         'type': 1},\n",
      " 'timezone': 19800,\n",
      " 'weather': [{'description': 'fog', 'icon': '50d', 'id': 741, 'main': 'Fog'}],\n",
      " 'wind': {'deg': 102.444, 'speed': 1.69}}\n"
     ]
    }
   ],
   "source": [
    "#pprint just beautifies the data to make ir more readable\n",
    "#it is just giving indentations and structure to your grabbed data\n",
    "pprint(data)"
   ]
  },
  {
   "cell_type": "code",
   "execution_count": 9,
   "metadata": {},
   "outputs": [
    {
     "data": {
      "text/plain": [
       "292.15"
      ]
     },
     "execution_count": 9,
     "metadata": {},
     "output_type": "execute_result"
    }
   ],
   "source": [
    "#getting useful data from the fetched data\n",
    "temp= data['main']['temp']\n",
    "temp"
   ]
  },
  {
   "cell_type": "code",
   "execution_count": 10,
   "metadata": {},
   "outputs": [
    {
     "data": {
      "text/plain": [
       "'fog'"
      ]
     },
     "execution_count": 10,
     "metadata": {},
     "output_type": "execute_result"
    }
   ],
   "source": [
    "weather= data['weather'][0]['description']\n",
    "weather"
   ]
  },
  {
   "cell_type": "code",
   "execution_count": null,
   "metadata": {},
   "outputs": [],
   "source": []
  },
  {
   "cell_type": "code",
   "execution_count": null,
   "metadata": {},
   "outputs": [],
   "source": []
  }
 ],
 "metadata": {
  "kernelspec": {
   "display_name": "Python 3",
   "language": "python",
   "name": "python3"
  },
  "language_info": {
   "codemirror_mode": {
    "name": "ipython",
    "version": 3
   },
   "file_extension": ".py",
   "mimetype": "text/x-python",
   "name": "python",
   "nbconvert_exporter": "python",
   "pygments_lexer": "ipython3",
   "version": "3.7.3"
  }
 },
 "nbformat": 4,
 "nbformat_minor": 2
}
