{
 "cells": [
  {
   "cell_type": "code",
   "execution_count": 2,
   "metadata": {},
   "outputs": [],
   "source": [
    "import numpy as np\n",
    "import matplotlib.pyplot as plt\n",
    "import math"
   ]
  },
  {
   "cell_type": "markdown",
   "metadata": {},
   "source": [
    "# 2D transformation matrices"
   ]
  },
  {
   "cell_type": "markdown",
   "metadata": {},
   "source": [
    "#<b>Impure rotation</b><br>\n",
    "*Multiplication of a matrix and a vector always result to  vector.<br>*The resulting vector is just a stretched and rotated version of the initial vector\n",
    "<br>When the resulting vector changes its direction and length, the matrix is called impure rotation matrix"
   ]
  },
  {
   "cell_type": "code",
   "execution_count": 10,
   "metadata": {},
   "outputs": [
    {
     "name": "stdout",
     "output_type": "stream",
     "text": [
      "initial vector v is:\n",
      " [ 2 -2]\n",
      "\n",
      "\n",
      "The impure matrix is:\n",
      " [[ 1 -1]\n",
      " [ 2  1]]\n",
      "\n",
      "\n",
      "The resulting vector is:\n",
      " [4 2]\n"
     ]
    },
    {
     "data": {
      "image/png": "[encoded data removed]",
      "text/plain": [
       "<Figure size 432x288 with 1 Axes>"
      ]
     },
     "metadata": {
      "needs_background": "light"
     },
     "output_type": "display_data"
    }
   ],
   "source": [
    "# creating a 2D input vector\n",
    "v = np.array([ 2, -2 ])\n",
    "\n",
    "# 2x2 impure rotation matrix\n",
    "A = np.array([ [1,-1], [2,1] ])\n",
    "\n",
    "# creating output vector w\n",
    "w = A@np.matrix.transpose(v)\n",
    "print(\"initial vector v is:\\n\",v)\n",
    "print(\"\\n\")\n",
    "print(\"The impure matrix is:\\n\",A)\n",
    "print(\"\\n\")\n",
    "print(\"The resulting vector is:\\n\",w)\n",
    "\n",
    "# plotting\n",
    "plt.plot([0,v[0]],[0,v[1]],label='v')\n",
    "plt.plot([0,w[0]],[0,w[1]],label='w')\n",
    "\n",
    "plt.grid()\n",
    "plt.axis((-6, 6, -6, 6))\n",
    "plt.legend()\n",
    "plt.title('Impure rotation')\n",
    "plt.show()"
   ]
  },
  {
   "cell_type": "markdown",
   "metadata": {},
   "source": [
    "#<b>pure rotation</b><br>\n",
    "When the resulting vector doesnt change its length/magnitude but changes only its direction,the matrix is called pure rotation matrix."
   ]
  },
  {
   "cell_type": "code",
   "execution_count": 14,
   "metadata": {},
   "outputs": [
    {
     "name": "stdout",
     "output_type": "stream",
     "text": [
      "initial vector v is:\n",
      " [ 3 -2]\n",
      "\n",
      "\n",
      "The impure matrix is:\n",
      " [[ 0.79335334 -0.60876143]\n",
      " [ 0.60876143  0.79335334]]\n",
      "\n",
      "\n",
      "The resulting vector is:\n",
      " [3.59758288 0.23957761]\n"
     ]
    },
    {
     "data": {
      "image/png": "[encoded data removed]",
      "text/plain": [
       "<Figure size 432x288 with 1 Axes>"
      ]
     },
     "metadata": {
      "needs_background": "light"
     },
     "output_type": "display_data"
    }
   ],
   "source": [
    "# creating 2D input vector\n",
    "v = np.array([ 3, -2 ])\n",
    "\n",
    "# 2x2 rotation matrix\n",
    "th = 5*np.pi/24\n",
    "A = np.array([ [math.cos(th),-math.sin(th)], [math.sin(th),math.cos(th)] ])\n",
    "\n",
    "# creating output vector w\n",
    "w = A@np.matrix.transpose(v)\n",
    "print(\"initial vector v is:\\n\",v)\n",
    "print(\"\\n\")\n",
    "print(\"The impure matrix is:\\n\",A)\n",
    "print(\"\\n\")\n",
    "print(\"The resulting vector is:\\n\",w)\n",
    "\n",
    "# plotting them\n",
    "plt.plot([0,v[0]],[0,v[1]],label='v')\n",
    "plt.plot([0,w[0]],[0,w[1]],label='Av')\n",
    "\n",
    "plt.grid()\n",
    "plt.axis((-4, 4, -4, 4))\n",
    "plt.legend()\n",
    "plt.title('Pure rotation')\n",
    "plt.show()"
   ]
  },
  {
   "cell_type": "markdown",
   "metadata": {},
   "source": [
    "# Additive and multiplicative matrix identities"
   ]
  },
  {
   "cell_type": "code",
   "execution_count": 17,
   "metadata": {},
   "outputs": [
    {
     "name": "stdout",
     "output_type": "stream",
     "text": [
      "Matrix A is:\n",
      " [[ -3.   3. -10. -14.]\n",
      " [ -7.   7.   3.  24.]\n",
      " [ -0.  -8.  -2. -12.]\n",
      " [  3.  -9.   8.   4.]]\n",
      "\n",
      "\n",
      "identity matrix is\n",
      " [[1. 0. 0. 0.]\n",
      " [0. 1. 0. 0.]\n",
      " [0. 0. 1. 0.]\n",
      " [0. 0. 0. 1.]]\n",
      "\n",
      "\n",
      "Zeroes matrix is\n",
      " [[0. 0. 0. 0.]\n",
      " [0. 0. 0. 0.]\n",
      " [0. 0. 0. 0.]\n",
      " [0. 0. 0. 0.]]\n",
      "\n",
      "\n",
      "The identity matrix is the multiplicative identity of all the matrices: A*I=A\n",
      " [[ -3.   3. -10. -14.]\n",
      " [ -7.   7.   3.  24.]\n",
      " [  0.  -8.  -2. -12.]\n",
      " [  3.  -9.   8.   4.]]\n",
      "\n",
      "\n",
      "The Zeroes matrix is the additive identity of all the matrices: A+Z=A\n",
      " [[ -3.   3. -10. -14.]\n",
      " [ -7.   7.   3.  24.]\n",
      " [  0.  -8.  -2. -12.]\n",
      " [  3.  -9.   8.   4.]]\n"
     ]
    }
   ],
   "source": [
    "# size of matrices\n",
    "n = 4\n",
    "\n",
    "A = np.round( 10*np.random.randn(n,n) )\n",
    "I = np.eye(n,n)\n",
    "Z = np.zeros((n,n))\n",
    "print(\"Matrix A is:\\n\",A)\n",
    "print(\"\\n\")\n",
    "print(\"identity matrix is\\n\",I)\n",
    "print(\"\\n\")\n",
    "print(\"Zeroes matrix is\\n\",Z)\n",
    "print(\"\\n\")\n",
    "print(\"The identity matrix is the multiplicative identity of all the matrices: A*I=A\\n\", A@I)\n",
    "print(\"\\n\")\n",
    "print(\"The Zeroes matrix is the additive identity of all the matrices: A+Z=A\\n\", A+Z)"
   ]
  }
 ],
 "metadata": {
  "kernelspec": {
   "display_name": "Python 3",
   "language": "python",
   "name": "python3"
  },
  "language_info": {
   "codemirror_mode": {
    "name": "ipython",
    "version": 3
   },
   "file_extension": ".py",
   "mimetype": "text/x-python",
   "name": "python",
   "nbconvert_exporter": "python",
   "pygments_lexer": "ipython3",
   "version": "3.7.3"
  }
 },
 "nbformat": 4,
 "nbformat_minor": 2
}
