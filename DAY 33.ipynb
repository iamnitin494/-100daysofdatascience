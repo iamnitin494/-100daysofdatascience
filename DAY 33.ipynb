{
 "cells": [
  {
   "cell_type": "code",
   "execution_count": 2,
   "metadata": {},
   "outputs": [],
   "source": [
    "import numpy as np\n",
    "import matplotlib.pyplot as plt\n",
    "import math"
   ]
  },
  {
   "cell_type": "markdown",
   "metadata": {},
   "source": [
    "# Projections in R^2\n",
    "\n"
   ]
  },
  {
   "cell_type": "code",
   "execution_count": 23,
   "metadata": {},
   "outputs": [
    {
     "name": "stdout",
     "output_type": "stream",
     "text": [
      "The line is:\n",
      " [2 5]\n",
      "\n",
      "\n",
      "The point b is:\n",
      " [4 1]\n",
      "\n",
      "\n",
      "The beta is:\n",
      " 0.4482758620689655\n",
      "The scaled version of line where it is orthogonal to point b is:\n",
      " [0.89655172 2.24137931]\n",
      "\n",
      "\n",
      "The line which is orthogonal to point b is\n",
      " [ 3.10344828 -1.24137931]\n",
      "\n",
      "\n",
      "The dot product between beta*a and c should be zero: \n",
      " 8.881784197001252e-16\n"
     ]
    }
   ],
   "source": [
    "\n",
    "# point b\n",
    "b = np.array([4,1])\n",
    "\n",
    "# line a\n",
    "a = np.array([ 2, 5 ])\n",
    "\n",
    "# beta\n",
    "beta = (np.matrix.transpose(a)@b) / (np.matrix.transpose(a)@a)\n",
    "\n",
    "c= b-(beta*a)\n",
    "print(\"The line is:\\n\",a)\n",
    "print(\"\\n\")\n",
    "print(\"The point b is:\\n\",b)\n",
    "print(\"\\n\")\n",
    "print('The beta is:\\n',beta)\n",
    "print(\"The scaled version of line where it is orthogonal to point b is:\\n\",beta*a )\n",
    "print(\"\\n\")\n",
    "print(\"The line which is orthogonal to point b is\\n\",c)\n",
    "print(\"\\n\")\n",
    "#verifying if the lines are orthogonal with each other\n",
    "print(\"The dot product between beta*a and c should be zero: \\n\",np.matrix.transpose(beta*a)@c)"
   ]
  },
  {
   "cell_type": "markdown",
   "metadata": {},
   "source": [
    "# Solving System of linear equations \n"
   ]
  },
  {
   "cell_type": "code",
   "execution_count": 45,
   "metadata": {},
   "outputs": [
    {
     "name": "stdout",
     "output_type": "stream",
     "text": [
      "The values of response variable is\n",
      " [[0.44387863]\n",
      " [1.62662775]\n",
      " [1.2870895 ]\n",
      " [1.73499071]\n",
      " [0.96199694]]\n",
      "\n",
      "\n",
      "The slopes (or the values of x) of independent variables are:\n",
      " [[ 0.0388251 ]\n",
      " [-0.49496042]\n",
      " [ 0.37044346]]\n",
      "\n",
      "\n",
      "The predicted values are A@x:\n",
      " [[ 0.09313305]\n",
      " [ 0.23267913]\n",
      " [ 0.85446556]\n",
      " [-0.39406831]\n",
      " [ 0.82601419]]\n",
      "\n",
      "\n",
      "The residuals are:\n",
      " [[0.40216727]\n",
      " [0.62960673]\n",
      " [0.17508009]\n",
      " [2.62869752]\n",
      " [0.83516834]]\n"
     ]
    }
   ],
   "source": [
    "## Solving for x such that Ax is as close as it can be to b \n",
    "\n",
    "# sizes\n",
    "m = 5\n",
    "n = 3\n",
    "\n",
    "# creating a vector b\n",
    "b = np.random.randn(m,1)\n",
    "\n",
    "# creating a matrix A\n",
    "A = np.random.randn(m,n)\n",
    "\n",
    "# solution using inverse\n",
    "x = np.linalg.inv(np.matrix.transpose(A)@A) @ (np.matrix.transpose(A)@b)\n",
    "\n",
    "print(\"The values of response variable is\\n\",b)\n",
    "print(\"\\n\")\n",
    "print(\"The slopes (or the values of x) of independent variables are:\\n\",x)\n",
    "print(\"\\n\")\n",
    "print(\"The predicted values are A@x:\\n\",A@x )\n",
    "print(\"\\n\")\n",
    "print(\"The residuals are:\\n\",b-(A@x1))\n"
   ]
  },
  {
   "cell_type": "code",
   "execution_count": null,
   "metadata": {},
   "outputs": [],
   "source": []
  }
 ],
 "metadata": {
  "kernelspec": {
   "display_name": "Python 3",
   "language": "python",
   "name": "python3"
  },
  "language_info": {
   "codemirror_mode": {
    "name": "ipython",
    "version": 3
   },
   "file_extension": ".py",
   "mimetype": "text/x-python",
   "name": "python",
   "nbconvert_exporter": "python",
   "pygments_lexer": "ipython3",
   "version": "3.7.3"
  }
 },
 "nbformat": 4,
 "nbformat_minor": 2
}
