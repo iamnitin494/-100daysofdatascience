{
 "cells": [
  {
   "cell_type": "code",
   "execution_count": 1,
   "metadata": {},
   "outputs": [],
   "source": [
    "import numpy as np"
   ]
  },
  {
   "cell_type": "code",
   "execution_count": 2,
   "metadata": {},
   "outputs": [
    {
     "name": "stdout",
     "output_type": "stream",
     "text": [
      "Square matrix is: \n",
      " [[ 0.89796844  1.21067043 -0.5175889   0.06398313 -0.58235492]\n",
      " [ 1.34889972  1.6336912  -0.11834795  0.06957899  2.55074098]\n",
      " [ 1.63802509  1.66189159 -0.5252638   0.45071245 -2.587278  ]\n",
      " [ 0.21972451 -0.98117829 -1.27482798 -0.65013073 -1.02862072]\n",
      " [ 1.49391908  0.43552445 -1.01586744  0.65612558 -2.01427382]]\n",
      "\n",
      "\n",
      "Rectangular matrix is:\n",
      " [[-0.17405368 -0.93317141]\n",
      " [-1.5681006  -1.01578164]\n",
      " [ 1.19365298  0.60128238]\n",
      " [ 0.20652982 -0.39641344]\n",
      " [ 2.30532123 -0.72102892]]\n"
     ]
    }
   ],
   "source": [
    "# square vs. rectangular\n",
    "S = np.random.randn(5,5)\n",
    "R = np.random.randn(5,2) # 5 rows, 2 columns\n",
    "print(\"Square matrix is: \\n\", S)\n",
    "print(\"\\n\")\n",
    "\n",
    "print(\"Rectangular matrix is:\\n\", R)"
   ]
  },
  {
   "cell_type": "code",
   "execution_count": 3,
   "metadata": {},
   "outputs": [
    {
     "name": "stdout",
     "output_type": "stream",
     "text": [
      "The 3x3 identity matrix is:\n",
      " [[1. 0. 0.]\n",
      " [0. 1. 0.]\n",
      " [0. 0. 1.]]\n",
      "\n",
      "\n",
      "The zeores matrix is:\n",
      " [[0. 0. 0. 0.]\n",
      " [0. 0. 0. 0.]\n",
      " [0. 0. 0. 0.]\n",
      " [0. 0. 0. 0.]]\n",
      "\n",
      "\n",
      "The diagonal matrix is:\n",
      " [[1 0 0 0 0]\n",
      " [0 2 0 0 0]\n",
      " [0 0 3 0 0]\n",
      " [0 0 0 5 0]\n",
      " [0 0 0 0 2]]\n"
     ]
    }
   ],
   "source": [
    "# identity\n",
    "I = np.eye(3)\n",
    "print(\"The 3x3 identity matrix is:\\n\",I)\n",
    "print(\"\\n\")\n",
    "\n",
    "# zeros\n",
    "Z = np.zeros((4,4))\n",
    "print(\"The zeores matrix is:\\n\", Z)\n",
    "print(\"\\n\")\n",
    "\n",
    "# diagonal\n",
    "D = np.diag([ 1, 2, 3, 5, 2 ])\n",
    "print(\"The diagonal matrix is:\\n\",D)\n",
    "\n"
   ]
  },
  {
   "cell_type": "code",
   "execution_count": 4,
   "metadata": {},
   "outputs": [
    {
     "name": "stdout",
     "output_type": "stream",
     "text": [
      "The original matrix is: \n",
      " [[-0.28156086  1.69454269 -0.04573187  0.09832132 -0.20454803]\n",
      " [-0.07101951 -0.86552169 -0.18550793  2.3582911   1.2274644 ]\n",
      " [-0.57429474  0.46538448 -1.82644221 -0.22053839  0.68368042]\n",
      " [-0.20878973 -0.05871542  0.23721317  0.81734584  1.07436294]\n",
      " [ 0.86178271 -1.21959403  0.06211862 -1.24960019 -0.43702536]]\n",
      "\n",
      "\n",
      "The upper triangular matrix is: \n",
      " [[-0.28156086  1.69454269 -0.04573187  0.09832132 -0.20454803]\n",
      " [ 0.         -0.86552169 -0.18550793  2.3582911   1.2274644 ]\n",
      " [ 0.          0.         -1.82644221 -0.22053839  0.68368042]\n",
      " [ 0.          0.          0.          0.81734584  1.07436294]\n",
      " [ 0.          0.          0.          0.         -0.43702536]]\n",
      "\n",
      "\n",
      "The lower triangular matrix is:\n",
      " [[-0.28156086  0.          0.          0.          0.        ]\n",
      " [-0.07101951 -0.86552169  0.          0.          0.        ]\n",
      " [-0.57429474  0.46538448 -1.82644221  0.          0.        ]\n",
      " [-0.20878973 -0.05871542  0.23721317  0.81734584  0.        ]\n",
      " [ 0.86178271 -1.21959403  0.06211862 -1.24960019 -0.43702536]]\n"
     ]
    }
   ],
   "source": [
    "# creating triangular matrix from full matrices\n",
    "S = np.random.randn(5,5)\n",
    "U = np.triu(S)\n",
    "L = np.tril(S)\n",
    "print(\"The original matrix is: \\n\", S)\n",
    "print(\"\\n\")\n",
    "print(\"The upper triangular matrix is: \\n\",U)\n",
    "print(\"\\n\")\n",
    "print(\"The lower triangular matrix is:\\n\",L)\n",
    "\n"
   ]
  },
  {
   "cell_type": "code",
   "execution_count": 5,
   "metadata": {},
   "outputs": [
    {
     "name": "stdout",
     "output_type": "stream",
     "text": [
      "Matrix A is: \n",
      " [[-0.19355784 -0.26892122 -0.61002294  0.33116127]\n",
      " [-0.54986612 -0.89108519 -1.01146847  0.5288658 ]\n",
      " [ 0.79636485 -0.02223278  0.29919582 -0.89493757]\n",
      " [ 0.59823422  1.99225545  0.88231256 -0.72830229]]\n",
      "\n",
      "\n",
      "Matrix B is:\n",
      " [[-1.62886768 -0.20188444  0.79598586 -0.54686232]\n",
      " [ 0.70426673  0.51445775  1.91721645 -0.7143191 ]\n",
      " [ 1.00268925  0.03705049 -1.3243772  -0.80432843]\n",
      " [-0.35065948  1.30390374  0.00641839  0.73728505]]\n",
      "\n",
      "\n",
      "Concatenation result is:\n",
      " [[-0.19355784 -0.26892122 -0.61002294  0.33116127 -1.62886768 -0.20188444\n",
      "   0.79598586 -0.54686232]\n",
      " [-0.54986612 -0.89108519 -1.01146847  0.5288658   0.70426673  0.51445775\n",
      "   1.91721645 -0.7143191 ]\n",
      " [ 0.79636485 -0.02223278  0.29919582 -0.89493757  1.00268925  0.03705049\n",
      "  -1.3243772  -0.80432843]\n",
      " [ 0.59823422  1.99225545  0.88231256 -0.72830229 -0.35065948  1.30390374\n",
      "   0.00641839  0.73728505]]\n"
     ]
    }
   ],
   "source": [
    "# concatenate matrices (sizes must match!)\n",
    "A = np.random.randn(4,4)\n",
    "B = np.random.randn(4,4)\n",
    "C = np.concatenate((A,B),axis=1)\n",
    "print(\"Matrix A is: \\n\",A)\n",
    "print(\"\\n\")\n",
    "print(\"Matrix B is:\\n\",B)\n",
    "print(\"\\n\")\n",
    "print(\"Concatenation result is:\\n\",C)"
   ]
  },
  {
   "cell_type": "markdown",
   "metadata": {},
   "source": [
    "# Matrix Addition and subtraction"
   ]
  },
  {
   "cell_type": "code",
   "execution_count": 6,
   "metadata": {},
   "outputs": [
    {
     "name": "stdout",
     "output_type": "stream",
     "text": [
      "Matrix A is:\n",
      " [[ 0.46286125  2.42562645 -1.34076184 -1.11595835]\n",
      " [-0.55043811 -0.90349136  0.05073095  0.44339038]\n",
      " [-2.80933403  0.80817771 -0.32236278 -0.25749719]\n",
      " [-1.1077174  -0.71409183  1.18207454 -0.18265602]\n",
      " [ 0.43051915 -0.28783514  3.54953979  0.74007606]]\n",
      "\n",
      "\n",
      "Matrix B is:\n",
      " [[ 1.43285398 -0.17151526 -1.58499217]\n",
      " [ 1.03666544 -0.40507854  0.67088018]\n",
      " [-1.18365105 -0.32581877  1.64226761]\n",
      " [-0.3547737  -0.9255086  -0.40262037]\n",
      " [-0.43095449 -0.3204578  -0.71178787]]\n",
      "\n",
      "\n",
      "Matrix C is:\n",
      " [[ 0.3250535   0.64191245  1.17620286  1.21975998]\n",
      " [-1.31642671 -0.42677085  1.01983091 -1.12422164]\n",
      " [ 2.37253545  0.65065993 -1.10205239  0.26598802]\n",
      " [ 1.91217647 -1.19554826 -1.27562757 -1.38842026]\n",
      " [-0.35612851 -1.00969586 -0.08506885  0.72894955]]\n",
      "\n",
      "\n",
      "The addition of A and C is:\n",
      " [[ 0.78791475  3.0675389  -0.16455898  0.10380163]\n",
      " [-1.86686482 -1.33026221  1.07056186 -0.68083126]\n",
      " [-0.43679858  1.45883764 -1.42441517  0.00849082]\n",
      " [ 0.80445907 -1.90964009 -0.09355304 -1.57107628]\n",
      " [ 0.07439064 -1.29753101  3.46447094  1.46902561]]\n",
      "\n",
      "\n",
      "The Subtraction of A and C is:\n",
      " [[ 0.13780774  1.783714   -2.51696471 -2.33571833]\n",
      " [ 0.76598861 -0.47672052 -0.96909995  1.56761201]\n",
      " [-5.18186947  0.15751778  0.77968961 -0.52348521]\n",
      " [-3.01989387  0.48145643  2.45770211  1.20576424]\n",
      " [ 0.78664766  0.72186072  3.63460863  0.01112651]]\n"
     ]
    }
   ],
   "source": [
    "# creating random matrices\n",
    "A = np.random.randn(5,4)\n",
    "B = np.random.randn(5,3)\n",
    "C = np.random.randn(5,4)\n",
    "\n",
    "#A+B wont add because the dimensions are not same.\n",
    "\n",
    "print(\"Matrix A is:\\n\",A)\n",
    "print(\"\\n\")\n",
    "\n",
    "print(\"Matrix B is:\\n\",B)\n",
    "print(\"\\n\")\n",
    "\n",
    "\n",
    "print(\"Matrix C is:\\n\",C)\n",
    "print(\"\\n\")\n",
    "print(\"The addition of A and C is:\\n\",A+C)\n",
    "print(\"\\n\")\n",
    "print(\"The Subtraction of A and C is:\\n\",A-C)\n",
    "\n",
    "\n",
    "\n"
   ]
  },
  {
   "cell_type": "markdown",
   "metadata": {},
   "source": [
    "# Matrix-scalar multiplication\n",
    "\n"
   ]
  },
  {
   "cell_type": "code",
   "execution_count": 7,
   "metadata": {},
   "outputs": [
    {
     "name": "stdout",
     "output_type": "stream",
     "text": [
      "Pre-multiplication:\n",
      " [[ 2  4]\n",
      " [ 4 10]]\n",
      "\n",
      "\n",
      "Post-multiplication:\n",
      " [[ 2  4]\n",
      " [ 4 10]]\n",
      "\n",
      "\n",
      "Both are same\n"
     ]
    }
   ],
   "source": [
    "# defining matrix and scalar\n",
    "M = np.array([ [1, 2], [2, 5] ])\n",
    "s = 2\n",
    "\n",
    "# pre- and post-multiplication is the same:\n",
    "print(\"Pre-multiplication:\\n\", M*s )\n",
    "print(\"\\n\")\n",
    "print(\"Post-multiplication:\\n\", s*M )\n",
    "print(\"\\n\")\n",
    "print(\"Both are same\")"
   ]
  },
  {
   "cell_type": "markdown",
   "metadata": {},
   "source": [
    "# Diagonal and trace of a matrix\n"
   ]
  },
  {
   "cell_type": "code",
   "execution_count": 8,
   "metadata": {},
   "outputs": [
    {
     "name": "stdout",
     "output_type": "stream",
     "text": [
      "When input is matrix and output is a vector:\n",
      " [-2. -0. -4. -9.]\n",
      "\n",
      "\n",
      "When input is vector and output is a matrix:\n",
      " [[-2.  0.  0.  0.]\n",
      " [ 0. -0.  0.  0.]\n",
      " [ 0.  0. -4.  0.]\n",
      " [ 0.  0.  0. -9.]]\n"
     ]
    }
   ],
   "source": [
    "M = np.round( 5*np.random.randn(4,4) )\n",
    "\n",
    "# extract the diagonals\n",
    "d = np.diag(M)\n",
    "\n",
    "# The two ways of using the diag function\n",
    "d = np.diag(M) # input is matrix, output is vector\n",
    "D = np.diag(d) # input is vector, output is matrix\n",
    "print(\"When input is matrix and output is a vector:\\n\",d)\n",
    "print(\"\\n\")\n",
    "print(\"When input is vector and output is a matrix:\\n\",D)\n"
   ]
  },
  {
   "cell_type": "code",
   "execution_count": 9,
   "metadata": {},
   "outputs": [
    {
     "name": "stdout",
     "output_type": "stream",
     "text": [
      "The trace of Matrix M is: -15.0\n"
     ]
    }
   ],
   "source": [
    "# Trace is the sum of diagonal elements\n",
    "tr = np.trace(M)\n",
    "print(\"The trace of Matrix M is:\",tr)"
   ]
  }
 ],
 "metadata": {
  "kernelspec": {
   "display_name": "Python 3",
   "language": "python",
   "name": "python3"
  },
  "language_info": {
   "codemirror_mode": {
    "name": "ipython",
    "version": 3
   },
   "file_extension": ".py",
   "mimetype": "text/x-python",
   "name": "python",
   "nbconvert_exporter": "python",
   "pygments_lexer": "ipython3",
   "version": "3.7.3"
  }
 },
 "nbformat": 4,
 "nbformat_minor": 2
}
