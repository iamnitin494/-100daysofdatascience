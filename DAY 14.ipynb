{
 "cells": [
  {
   "cell_type": "markdown",
   "metadata": {},
   "source": [
    "# REGEX cont."
   ]
  },
  {
   "cell_type": "code",
   "execution_count": 1,
   "metadata": {},
   "outputs": [],
   "source": [
    "import re"
   ]
  },
  {
   "cell_type": "code",
   "execution_count": 30,
   "metadata": {},
   "outputs": [
    {
     "data": {
      "text/plain": [
       "['https://www.google.com/abc']"
      ]
     },
     "execution_count": 30,
     "metadata": {},
     "output_type": "execute_result"
    }
   ],
   "source": [
    "#finding an url from a string\n",
    "url= re.compile(r'https?://www\\.[A-Za-z-]{2,256}\\.[a-z]{2,6}[-a-zA-Z-/0-9@:+/\\\\~&]*')\n",
    "url.findall(\"my url is https://www.google.com/abc\")"
   ]
  },
  {
   "cell_type": "code",
   "execution_count": 49,
   "metadata": {},
   "outputs": [
    {
     "name": "stdout",
     "output_type": "stream",
     "text": [
      "https://www.google.com/abc\n"
     ]
    },
    {
     "data": {
      "text/plain": [
       "('https', 'www.google.com')"
      ]
     },
     "execution_count": 49,
     "metadata": {},
     "output_type": "execute_result"
    }
   ],
   "source": [
    "#grouping domain name, http/https in separate groups\n",
    "#it can be done by enclosing the required groups in () brackets\n",
    "url= re.compile(r'(https)?://(www\\.[A-Za-z-]{2,256}\\.[a-z]{2,6})[-a-zA-Z-/0-9@:+/\\\\~&]*')\n",
    "result= url.search(\"my url is https://www.google.com/abc\")\n",
    "print(result.group())\n",
    "result.groups()"
   ]
  },
  {
   "cell_type": "code",
   "execution_count": 81,
   "metadata": {},
   "outputs": [
    {
     "name": "stdout",
     "output_type": "stream",
     "text": [
      "https://www.google.com/abc\n",
      "https\n",
      "www.google.com\n"
     ]
    }
   ],
   "source": [
    "#taking the nth element from a group\n",
    "url= re.compile(r'(https?)://(www\\.[A-Za-z-]{2,256}\\.[a-z]{2,6})[-a-zA-Z-/0-9@:+/\\\\~&]*')\n",
    "result= url.search(\"my url is https://www.google.com/abc\")\n",
    "print(result.group(0))\n",
    "print(result.group(1))\n",
    "print(result.group(2))\n"
   ]
  },
  {
   "cell_type": "code",
   "execution_count": 71,
   "metadata": {},
   "outputs": [
    {
     "name": "stdout",
     "output_type": "stream",
     "text": [
      "Mr. Nitin Aggarwal\n",
      "Mr.\n",
      "Nitin\n",
      "Aggarwal\n"
     ]
    }
   ],
   "source": [
    "#calling your groups by defining name for that group.\n",
    "names= re.compile(r'(?P<title>Mr\\.|Mrs\\.|Mister|Ms\\.) (?P<first_name>[a-zA-Z]+) (?P<last_name>[a-zA-Z]+)')\n",
    "result= names.search(\"His name is Mr. Nitin Aggarwal\")\n",
    "print(result.group())\n",
    "print(result.group(\"title\"))\n",
    "print(result.group(\"first_name\"))\n",
    "print(result.group(\"last_name\"))"
   ]
  },
  {
   "cell_type": "code",
   "execution_count": 88,
   "metadata": {},
   "outputs": [
    {
     "name": "stdout",
     "output_type": "stream",
     "text": [
      "https://www.goOgLE.com/abc\n"
     ]
    },
    {
     "data": {
      "text/plain": [
       "('https', 'www.goOgLE.com')"
      ]
     },
     "execution_count": 88,
     "metadata": {},
     "output_type": "execute_result"
    }
   ],
   "source": [
    "#Commpilation flags \n",
    "#verbose flag: re.VERBOSE\n",
    "#Ignorecase flag: re.I\n",
    "url= re.compile(r\"\"\"\n",
    "                (https?)://                   #capture http/https\n",
    "                (www\\.[a-z-]{2,256}        #capture domain name \n",
    "                   \\.[a-z]{2,6})          \n",
    "                [-a-z-/0-9@:+/\\\\~&]*\"\"\", re.VERBOSE|re.I)\n",
    "result= url.search(\"examples of url are https://www.goOgLE.com/abc\")\n",
    "print(result.group())\n",
    "result.groups()"
   ]
  },
  {
   "cell_type": "code",
   "execution_count": 92,
   "metadata": {},
   "outputs": [
    {
     "name": "stdout",
     "output_type": "stream",
     "text": [
      "Mr. A and Mrs. L murdered Mr. V\n"
     ]
    }
   ],
   "source": [
    "#SUBSTITUTION IN REGEX\n",
    "#This regex is hiding the identity of a person\n",
    "my_string= \"Mr. Abraham and Mrs. Lincolin murdered Mr. Vincent\"\n",
    "pattern= re.compile(r'(Mr\\.|Mrs\\.|Ms\\.) ([a-z])[a-z]+', re.I) #it will capture Mr.|Mrs.|Ms. in group 1 and first character of the name in group 2.\n",
    "print(pattern.sub(\"\\g<1> \\g<2>\", my_string))  #substituting my string with group 1 and group 2"
   ]
  },
  {
   "cell_type": "code",
   "execution_count": null,
   "metadata": {},
   "outputs": [],
   "source": []
  }
 ],
 "metadata": {
  "kernelspec": {
   "display_name": "Python 3",
   "language": "python",
   "name": "python3"
  },
  "language_info": {
   "codemirror_mode": {
    "name": "ipython",
    "version": 3
   },
   "file_extension": ".py",
   "mimetype": "text/x-python",
   "name": "python",
   "nbconvert_exporter": "python",
   "pygments_lexer": "ipython3",
   "version": "3.7.3"
  }
 },
 "nbformat": 4,
 "nbformat_minor": 2
}
