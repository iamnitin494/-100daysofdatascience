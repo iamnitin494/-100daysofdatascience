{
 "cells": [
  {
   "cell_type": "code",
   "execution_count": 1,
   "metadata": {},
   "outputs": [],
   "source": [
    "import numpy as np\n",
    "import matplotlib.pyplot as plt\n",
    "from sympy import *\n"
   ]
  },
  {
   "cell_type": "markdown",
   "metadata": {},
   "source": [
    "# Finding eigenvalues\n"
   ]
  },
  {
   "cell_type": "code",
   "execution_count": 2,
   "metadata": {},
   "outputs": [
    {
     "name": "stdout",
     "output_type": "stream",
     "text": [
      "The eigen values of A are:\n",
      " [3. 9.]\n"
     ]
    }
   ],
   "source": [
    "# matrix\n",
    "A = [ [5,2], [4,7] ]\n",
    "\n",
    "# extract the eigenvalues\n",
    "eigvals = np.linalg.eig(A)\n",
    "\n",
    "# note that with the above syntax, the eigenvalues are in the first element of eigvals:\n",
    "print(\"The eigen values of A are:\\n\",eigvals[0])\n",
    "\n",
    "\n"
   ]
  },
  {
   "cell_type": "markdown",
   "metadata": {},
   "source": [
    "# Finding eigenvectors\n"
   ]
  },
  {
   "cell_type": "code",
   "execution_count": 3,
   "metadata": {},
   "outputs": [
    {
     "name": "stdout",
     "output_type": "stream",
     "text": [
      "The eigen values of A are:\n",
      " [-0.21699057  9.21699057]\n",
      "\n",
      "\n",
      "The eigen vectors of A are:\n",
      " [[-0.77925158 -0.54107946]\n",
      " [ 0.62671124 -0.84097147]]\n",
      "\n",
      "\n"
     ]
    }
   ],
   "source": [
    "# matrix\n",
    "A = [ [3,4], [5,6] ]\n",
    "#Finding eigen values and vectors \n",
    "evals,evecs = np.linalg.eig(A)\n",
    "print(\"The eigen values of A are:\\n\",evals)\n",
    "print(\"\\n\")\n",
    "print(\"The eigen vectors of A are:\\n\",evecs)\n",
    "print(\"\\n\")"
   ]
  },
  {
   "cell_type": "markdown",
   "metadata": {},
   "source": [
    "# Eigendecomposition of symmetric matrices\n"
   ]
  },
  {
   "cell_type": "code",
   "execution_count": 4,
   "metadata": {},
   "outputs": [
    {
     "name": "stdout",
     "output_type": "stream",
     "text": [
      "The eigen values of A are:\n",
      " [-9.57605008  9.45037551 -6.71482615  7.25381258  6.11960624 -4.33557417\n",
      " -2.95124532 -2.23995605  3.92281854  3.37964859  2.80345081  0.88915978\n",
      " -0.26014728 -0.38532399]\n",
      "\n",
      "\n",
      "The eigen vectors of A are:\n",
      " [[ 0.14110083  0.36034185 -0.05118529  0.59197232  0.20590262 -0.08044395\n",
      "  -0.17417718 -0.39227739 -0.20037884  0.41252902  0.10075583 -0.11536096\n",
      "   0.17404741 -0.00474614]\n",
      " [-0.25823859 -0.22714019 -0.0852574   0.19889951 -0.11916611  0.01696465\n",
      "  -0.27670603 -0.10815763  0.16490127  0.01167373 -0.45750657 -0.2214102\n",
      "  -0.13140979 -0.65513792]\n",
      " [-0.2326188   0.22462451  0.38943693 -0.01388556 -0.42452665  0.04711666\n",
      "  -0.07374393  0.04020226 -0.03003651 -0.02220879 -0.31368968  0.04764181\n",
      "   0.66072243  0.12434083]\n",
      " [-0.64924633  0.0122977  -0.13844064 -0.08357434  0.31651425  0.43977162\n",
      "   0.27547265  0.0544499   0.01624356  0.4006168   0.05133743  0.10122882\n",
      "   0.07812612 -0.00173328]\n",
      " [ 0.14151976 -0.62811485 -0.04011907  0.17928998 -0.12803287 -0.25602639\n",
      "   0.47619796 -0.18780486  0.03665695  0.3103793  -0.20415345  0.13598349\n",
      "   0.16931965  0.14558168]\n",
      " [ 0.26487174  0.29589985 -0.06961026 -0.25652916 -0.21139178 -0.03046816\n",
      "  -0.11952683  0.21639437  0.27462886  0.63117643 -0.2979934   0.17143185\n",
      "  -0.2632835   0.05994676]\n",
      " [ 0.15356234 -0.10261709 -0.38520673 -0.31297811 -0.12345416 -0.04603983\n",
      "  -0.15628221 -0.04436308  0.19185967  0.14138373  0.46743726  0.01185654\n",
      "   0.52080304 -0.35933625]\n",
      " [-0.01431888  0.08841683 -0.20351816  0.28664003 -0.30790809 -0.08374768\n",
      "   0.22757611  0.59506338 -0.51016061  0.05197166  0.10890345  0.08654214\n",
      "  -0.03551687 -0.27768157]\n",
      " [ 0.27611172  0.19566948  0.45097415  0.04703886  0.05864803  0.17630402\n",
      "   0.54080423  0.05799993  0.30389532  0.02934491  0.13292035 -0.30342245\n",
      "   0.01955149 -0.3823621 ]\n",
      " [-0.16854113 -0.13554054 -0.08091906  0.40955059 -0.30938235  0.09025086\n",
      "  -0.13891491  0.26654699  0.47856291  0.03984766  0.30081007 -0.35272256\n",
      "  -0.07147491  0.36621976]\n",
      " [-0.03034503 -0.15087016  0.10879033 -0.28513075  0.29249731 -0.30122163\n",
      "  -0.10973004  0.28166373 -0.2562222   0.23860699 -0.09553882 -0.67438946\n",
      "   0.1293044   0.11084526]\n",
      " [-0.33909946  0.41523604 -0.30415753 -0.0702448  -0.05023551 -0.61280308\n",
      "   0.35005104 -0.14742985  0.22833478 -0.15859256 -0.05466378 -0.10402414\n",
      "  -0.03924823  0.01356444]\n",
      " [ 0.074489    0.07026058 -0.27181516 -0.21885512 -0.46361151  0.38073448\n",
      "   0.18892459 -0.40019409 -0.30652815  0.00636683 -0.04449219 -0.42283599\n",
      "  -0.14905119  0.12249684]\n",
      " [-0.31256698 -0.10365217  0.48463297 -0.14382133 -0.29950165 -0.26751\n",
      "  -0.11167397 -0.23672146 -0.15662124  0.25828799  0.44318522  0.09354691\n",
      "  -0.30549848 -0.12844095]]\n",
      "\n",
      "\n",
      " The magnitude of each eigen vector is :\n",
      " [1. 1. 1. 1. 1. 1. 1. 1. 1. 1. 1. 1. 1. 1.]\n"
     ]
    }
   ],
   "source": [
    "# create a random matrix\n",
    "A = np.random.randn(14,14)\n",
    "\n",
    "# making it symmetric by additive method\n",
    "A = A+A.T\n",
    "\n",
    "# diagonalize it\n",
    "evals,evecs = np.linalg.eig(A)\n",
    "print(\"The eigen values of A are:\\n\",evals)\n",
    "print(\"\\n\")\n",
    "print(\"The eigen vectors of A are:\\n\",evecs)\n",
    "print(\"\\n\")\n",
    "# magnitude of each eigen vector  \n",
    "print(\" The magnitude of each eigen vector is :\\n\",np.sqrt( sum(evecs**2) ) )\n"
   ]
  },
  {
   "cell_type": "code",
   "execution_count": null,
   "metadata": {},
   "outputs": [],
   "source": []
  }
 ],
 "metadata": {
  "kernelspec": {
   "display_name": "Python 3",
   "language": "python",
   "name": "python3"
  },
  "language_info": {
   "codemirror_mode": {
    "name": "ipython",
    "version": 3
   },
   "file_extension": ".py",
   "mimetype": "text/x-python",
   "name": "python",
   "nbconvert_exporter": "python",
   "pygments_lexer": "ipython3",
   "version": "3.7.3"
  }
 },
 "nbformat": 4,
 "nbformat_minor": 2
}
